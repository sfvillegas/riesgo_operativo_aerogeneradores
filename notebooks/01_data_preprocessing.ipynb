{
 "cells": [
  {
   "cell_type": "markdown",
   "id": "988e2e3e-67ea-4999-8b22-09cd012995f1",
   "metadata": {},
   "source": [
    "# Proyecto2025_Riesgo_Operativo_Aerogeneradores_RioGrande_TDF\n",
    "\n",
    "**Bloque:** Aprendizaje Automático  \n",
    "**Autor:** Sabrina Villegas  \n",
    "**Fecha:** 02 de Junio de 2025  \n",
    "**Notebook:** 01 - Preprocesamiento de Datos  \n",
    "\n",
    "---"
   ]
  },
  {
   "cell_type": "markdown",
   "id": "8ddcc8ae-1a13-4703-a9c0-e8fc871cc5e3",
   "metadata": {},
   "source": [
    "## Objetivo\n",
    "\n",
    "El objetivo de este notebook es realizar la carga, limpieza y preparación inicial de los datasets:\n",
    "\n",
    "- Dataset **Operativo (SCADA)**: Registros de operación de aerogeneradores a intervalos de 10 minutos.\n",
    "- Dataset **Meteorológico**: Datos climáticos diarios de Río Grande, Tierra del Fuego.\n",
    "\n",
    "Las acciones principales incluyen:\n",
    "- Conversión de variables de fecha/hora al formato adecuado.\n",
    "- Detección y eliminación de duplicados.\n",
    "- Inspección de datos faltantes (nulos) y su eliminacion.\n",
    "- Unificación de ambos datasets por fecha, ajustando las frecuencias de muestreo.\n",
    "- Guardado del dataset procesado para futuras etapas de análisis y modelado."
   ]
  },
  {
   "cell_type": "markdown",
   "id": "7fccb41d-eee3-4c83-8f05-de1271c9b3e9",
   "metadata": {},
   "source": [
    "1. PREPROCESAMIENTO"
   ]
  },
  {
   "cell_type": "code",
   "execution_count": 309,
   "id": "9c6318b4-ca1e-40c5-b735-c528f23a3be4",
   "metadata": {},
   "outputs": [],
   "source": [
    "# Importar librerías\n",
    "import pandas as pd\n",
    "import numpy as np\n",
    "\n",
    "# Cargar datasets\n",
    "path_operativo = '../data/raw/T1.csv'\n",
    "path_meteorologico = '../data/raw/export.csv'\n"
   ]
  },
  {
   "cell_type": "code",
   "execution_count": 311,
   "id": "269b5d79-3ce1-4e64-a6e0-fede216b5cbe",
   "metadata": {},
   "outputs": [],
   "source": [
    "# Carga con ajuste de separador y encoding para meteorológico\n",
    "df_operativo = pd.read_csv(path_operativo)\n",
    "df_meteorologico = pd.read_csv(path_meteorologico)"
   ]
  },
  {
   "cell_type": "code",
   "execution_count": 313,
   "id": "8d36a7a9-eab2-430d-b864-89ac8bcea92d",
   "metadata": {},
   "outputs": [
    {
     "name": "stdout",
     "output_type": "stream",
     "text": [
      "Dataset Operativo (SCADA):\n"
     ]
    },
    {
     "data": {
      "text/html": [
       "<div>\n",
       "<style scoped>\n",
       "    .dataframe tbody tr th:only-of-type {\n",
       "        vertical-align: middle;\n",
       "    }\n",
       "\n",
       "    .dataframe tbody tr th {\n",
       "        vertical-align: top;\n",
       "    }\n",
       "\n",
       "    .dataframe thead th {\n",
       "        text-align: right;\n",
       "    }\n",
       "</style>\n",
       "<table border=\"1\" class=\"dataframe\">\n",
       "  <thead>\n",
       "    <tr style=\"text-align: right;\">\n",
       "      <th></th>\n",
       "      <th>Date/Time</th>\n",
       "      <th>LV ActivePower (kW)</th>\n",
       "      <th>Wind Speed (m/s)</th>\n",
       "      <th>Theoretical_Power_Curve (KWh)</th>\n",
       "      <th>Wind Direction (°)</th>\n",
       "    </tr>\n",
       "  </thead>\n",
       "  <tbody>\n",
       "    <tr>\n",
       "      <th>0</th>\n",
       "      <td>01 01 2018 00:00</td>\n",
       "      <td>380.047791</td>\n",
       "      <td>5.311336</td>\n",
       "      <td>416.328908</td>\n",
       "      <td>259.994904</td>\n",
       "    </tr>\n",
       "    <tr>\n",
       "      <th>1</th>\n",
       "      <td>01 01 2018 00:10</td>\n",
       "      <td>453.769196</td>\n",
       "      <td>5.672167</td>\n",
       "      <td>519.917511</td>\n",
       "      <td>268.641113</td>\n",
       "    </tr>\n",
       "    <tr>\n",
       "      <th>2</th>\n",
       "      <td>01 01 2018 00:20</td>\n",
       "      <td>306.376587</td>\n",
       "      <td>5.216037</td>\n",
       "      <td>390.900016</td>\n",
       "      <td>272.564789</td>\n",
       "    </tr>\n",
       "    <tr>\n",
       "      <th>3</th>\n",
       "      <td>01 01 2018 00:30</td>\n",
       "      <td>419.645905</td>\n",
       "      <td>5.659674</td>\n",
       "      <td>516.127569</td>\n",
       "      <td>271.258087</td>\n",
       "    </tr>\n",
       "    <tr>\n",
       "      <th>4</th>\n",
       "      <td>01 01 2018 00:40</td>\n",
       "      <td>380.650696</td>\n",
       "      <td>5.577941</td>\n",
       "      <td>491.702972</td>\n",
       "      <td>265.674286</td>\n",
       "    </tr>\n",
       "  </tbody>\n",
       "</table>\n",
       "</div>"
      ],
      "text/plain": [
       "          Date/Time  LV ActivePower (kW)  Wind Speed (m/s)  \\\n",
       "0  01 01 2018 00:00           380.047791          5.311336   \n",
       "1  01 01 2018 00:10           453.769196          5.672167   \n",
       "2  01 01 2018 00:20           306.376587          5.216037   \n",
       "3  01 01 2018 00:30           419.645905          5.659674   \n",
       "4  01 01 2018 00:40           380.650696          5.577941   \n",
       "\n",
       "   Theoretical_Power_Curve (KWh)  Wind Direction (°)  \n",
       "0                     416.328908          259.994904  \n",
       "1                     519.917511          268.641113  \n",
       "2                     390.900016          272.564789  \n",
       "3                     516.127569          271.258087  \n",
       "4                     491.702972          265.674286  "
      ]
     },
     "metadata": {},
     "output_type": "display_data"
    },
    {
     "name": "stdout",
     "output_type": "stream",
     "text": [
      "Dataset Meteorológico:\n"
     ]
    },
    {
     "data": {
      "text/html": [
       "<div>\n",
       "<style scoped>\n",
       "    .dataframe tbody tr th:only-of-type {\n",
       "        vertical-align: middle;\n",
       "    }\n",
       "\n",
       "    .dataframe tbody tr th {\n",
       "        vertical-align: top;\n",
       "    }\n",
       "\n",
       "    .dataframe thead th {\n",
       "        text-align: right;\n",
       "    }\n",
       "</style>\n",
       "<table border=\"1\" class=\"dataframe\">\n",
       "  <thead>\n",
       "    <tr style=\"text-align: right;\">\n",
       "      <th></th>\n",
       "      <th>date</th>\n",
       "      <th>tavg</th>\n",
       "      <th>tmin</th>\n",
       "      <th>tmax</th>\n",
       "      <th>prcp</th>\n",
       "      <th>snow</th>\n",
       "      <th>wdir</th>\n",
       "      <th>wspd</th>\n",
       "      <th>wpgt</th>\n",
       "      <th>pres</th>\n",
       "      <th>tsun</th>\n",
       "    </tr>\n",
       "  </thead>\n",
       "  <tbody>\n",
       "    <tr>\n",
       "      <th>0</th>\n",
       "      <td>2018-01-01 00:00:00</td>\n",
       "      <td>9.1</td>\n",
       "      <td>3.0</td>\n",
       "      <td>15.0</td>\n",
       "      <td>NaN</td>\n",
       "      <td>NaN</td>\n",
       "      <td>214.0</td>\n",
       "      <td>20.8</td>\n",
       "      <td>NaN</td>\n",
       "      <td>NaN</td>\n",
       "      <td>NaN</td>\n",
       "    </tr>\n",
       "    <tr>\n",
       "      <th>1</th>\n",
       "      <td>2018-01-02 00:00:00</td>\n",
       "      <td>7.3</td>\n",
       "      <td>5.0</td>\n",
       "      <td>10.0</td>\n",
       "      <td>NaN</td>\n",
       "      <td>NaN</td>\n",
       "      <td>146.0</td>\n",
       "      <td>15.2</td>\n",
       "      <td>NaN</td>\n",
       "      <td>NaN</td>\n",
       "      <td>NaN</td>\n",
       "    </tr>\n",
       "    <tr>\n",
       "      <th>2</th>\n",
       "      <td>2018-01-03 00:00:00</td>\n",
       "      <td>6.4</td>\n",
       "      <td>4.0</td>\n",
       "      <td>7.0</td>\n",
       "      <td>NaN</td>\n",
       "      <td>NaN</td>\n",
       "      <td>31.0</td>\n",
       "      <td>25.8</td>\n",
       "      <td>NaN</td>\n",
       "      <td>NaN</td>\n",
       "      <td>NaN</td>\n",
       "    </tr>\n",
       "    <tr>\n",
       "      <th>3</th>\n",
       "      <td>2018-01-04 00:00:00</td>\n",
       "      <td>8.7</td>\n",
       "      <td>6.0</td>\n",
       "      <td>12.0</td>\n",
       "      <td>NaN</td>\n",
       "      <td>NaN</td>\n",
       "      <td>351.0</td>\n",
       "      <td>19.5</td>\n",
       "      <td>NaN</td>\n",
       "      <td>NaN</td>\n",
       "      <td>NaN</td>\n",
       "    </tr>\n",
       "    <tr>\n",
       "      <th>4</th>\n",
       "      <td>2018-01-05 00:00:00</td>\n",
       "      <td>9.1</td>\n",
       "      <td>6.0</td>\n",
       "      <td>12.0</td>\n",
       "      <td>NaN</td>\n",
       "      <td>NaN</td>\n",
       "      <td>232.0</td>\n",
       "      <td>13.7</td>\n",
       "      <td>NaN</td>\n",
       "      <td>995.8</td>\n",
       "      <td>NaN</td>\n",
       "    </tr>\n",
       "  </tbody>\n",
       "</table>\n",
       "</div>"
      ],
      "text/plain": [
       "                  date  tavg  tmin  tmax  prcp  snow   wdir  wspd  wpgt  \\\n",
       "0  2018-01-01 00:00:00   9.1   3.0  15.0   NaN   NaN  214.0  20.8   NaN   \n",
       "1  2018-01-02 00:00:00   7.3   5.0  10.0   NaN   NaN  146.0  15.2   NaN   \n",
       "2  2018-01-03 00:00:00   6.4   4.0   7.0   NaN   NaN   31.0  25.8   NaN   \n",
       "3  2018-01-04 00:00:00   8.7   6.0  12.0   NaN   NaN  351.0  19.5   NaN   \n",
       "4  2018-01-05 00:00:00   9.1   6.0  12.0   NaN   NaN  232.0  13.7   NaN   \n",
       "\n",
       "    pres  tsun  \n",
       "0    NaN   NaN  \n",
       "1    NaN   NaN  \n",
       "2    NaN   NaN  \n",
       "3    NaN   NaN  \n",
       "4  995.8   NaN  "
      ]
     },
     "metadata": {},
     "output_type": "display_data"
    }
   ],
   "source": [
    "# Visualizar las primeras filas\n",
    "print(\"Dataset Operativo (SCADA):\")\n",
    "display(df_operativo.head())\n",
    "\n",
    "print(\"Dataset Meteorológico:\")\n",
    "display(df_meteorologico.head())"
   ]
  },
  {
   "cell_type": "code",
   "execution_count": 315,
   "id": "f34289f2-96f9-495b-8708-22ee391907db",
   "metadata": {},
   "outputs": [
    {
     "name": "stdout",
     "output_type": "stream",
     "text": [
      "Información Dataset Operativo:\n",
      "<class 'pandas.core.frame.DataFrame'>\n",
      "RangeIndex: 50530 entries, 0 to 50529\n",
      "Data columns (total 5 columns):\n",
      " #   Column                         Non-Null Count  Dtype  \n",
      "---  ------                         --------------  -----  \n",
      " 0   Date/Time                      50530 non-null  object \n",
      " 1   LV ActivePower (kW)            50530 non-null  float64\n",
      " 2   Wind Speed (m/s)               50530 non-null  float64\n",
      " 3   Theoretical_Power_Curve (KWh)  50530 non-null  float64\n",
      " 4   Wind Direction (°)             50530 non-null  float64\n",
      "dtypes: float64(4), object(1)\n",
      "memory usage: 1.9+ MB\n"
     ]
    }
   ],
   "source": [
    "# Información de datasets\n",
    "print(\"Información Dataset Operativo:\")\n",
    "df_operativo.info()"
   ]
  },
  {
   "cell_type": "code",
   "execution_count": 317,
   "id": "10e7f545-0883-4041-a8ae-2c5f1414cb8d",
   "metadata": {},
   "outputs": [
    {
     "name": "stdout",
     "output_type": "stream",
     "text": [
      "Información Dataset Meteorológico:\n",
      "<class 'pandas.core.frame.DataFrame'>\n",
      "RangeIndex: 352 entries, 0 to 351\n",
      "Data columns (total 11 columns):\n",
      " #   Column  Non-Null Count  Dtype  \n",
      "---  ------  --------------  -----  \n",
      " 0   date    352 non-null    object \n",
      " 1   tavg    352 non-null    float64\n",
      " 2   tmin    332 non-null    float64\n",
      " 3   tmax    326 non-null    float64\n",
      " 4   prcp    120 non-null    float64\n",
      " 5   snow    6 non-null      float64\n",
      " 6   wdir    319 non-null    float64\n",
      " 7   wspd    324 non-null    float64\n",
      " 8   wpgt    0 non-null      float64\n",
      " 9   pres    78 non-null     float64\n",
      " 10  tsun    0 non-null      float64\n",
      "dtypes: float64(10), object(1)\n",
      "memory usage: 30.4+ KB\n"
     ]
    }
   ],
   "source": [
    "print(\"Información Dataset Meteorológico:\")\n",
    "df_meteorologico.info()"
   ]
  },
  {
   "cell_type": "code",
   "execution_count": 319,
   "id": "784122e2-d8ca-4036-9752-15923809e1a8",
   "metadata": {},
   "outputs": [],
   "source": [
    "# Conversión de fechas\n",
    "df_operativo['Date/Time'] = pd.to_datetime(df_operativo['Date/Time'], dayfirst=True)\n",
    "df_meteorologico['date'] = pd.to_datetime(df_meteorologico['date'])"
   ]
  },
  {
   "cell_type": "code",
   "execution_count": 321,
   "id": "feae87af-b061-4c44-9cbb-018772ed78a3",
   "metadata": {},
   "outputs": [
    {
     "name": "stdout",
     "output_type": "stream",
     "text": [
      "Duplicados en Operativo: 0\n",
      "Duplicados en Meteorológico: 0\n"
     ]
    }
   ],
   "source": [
    "# Chequeo de duplicados, si existen se eliminan \n",
    "print(f\"Duplicados en Operativo: {df_operativo.duplicated().sum()}\")\n",
    "print(f\"Duplicados en Meteorológico: {df_meteorologico.duplicated().sum()}\")\n"
   ]
  },
  {
   "cell_type": "code",
   "execution_count": 323,
   "id": "532033b5-66cf-4f63-81e6-9c279d40ff89",
   "metadata": {},
   "outputs": [],
   "source": [
    "# LIMPIEZA inteligente de valores nulos\n",
    "# Eliminar columnas con más del 40% de valores nulos\n",
    "threshold = 0.4\n",
    "df_operativo = df_operativo.dropna(axis=1, thresh=int((1-threshold) * len(df_operativo)))\n",
    "df_meteorologico = df_meteorologico.dropna(axis=1, thresh=int((1-threshold) * len(df_meteorologico)))"
   ]
  },
  {
   "cell_type": "code",
   "execution_count": 325,
   "id": "1a224dbe-d833-46d6-966e-b1948e6bff1e",
   "metadata": {},
   "outputs": [],
   "source": [
    "# Eliminar filas con nulos remanentes\n",
    "df_operativo = df_operativo.dropna()\n",
    "df_meteorologico = df_meteorologico.dropna()"
   ]
  },
  {
   "cell_type": "code",
   "execution_count": 327,
   "id": "a469dbdf-2b52-4f29-a7a6-87b8ccb35c44",
   "metadata": {},
   "outputs": [],
   "source": [
    "# Merge de datasets por fecha\n",
    "df_operativo_daily = df_operativo.resample('D', on='Date/Time').mean().reset_index()"
   ]
  },
  {
   "cell_type": "code",
   "execution_count": 329,
   "id": "10a0ba1c-2951-45b9-9684-0da8818dfcc5",
   "metadata": {},
   "outputs": [],
   "source": [
    "df_merged = pd.merge(df_operativo_daily, df_meteorologico, left_on='Date/Time', right_on='date')"
   ]
  },
  {
   "cell_type": "code",
   "execution_count": 331,
   "id": "7a547298-a5eb-4f8b-a873-5dbd021fe086",
   "metadata": {},
   "outputs": [
    {
     "name": "stdout",
     "output_type": "stream",
     "text": [
      "Dataset Unificado:\n"
     ]
    },
    {
     "data": {
      "text/html": [
       "<div>\n",
       "<style scoped>\n",
       "    .dataframe tbody tr th:only-of-type {\n",
       "        vertical-align: middle;\n",
       "    }\n",
       "\n",
       "    .dataframe tbody tr th {\n",
       "        vertical-align: top;\n",
       "    }\n",
       "\n",
       "    .dataframe thead th {\n",
       "        text-align: right;\n",
       "    }\n",
       "</style>\n",
       "<table border=\"1\" class=\"dataframe\">\n",
       "  <thead>\n",
       "    <tr style=\"text-align: right;\">\n",
       "      <th></th>\n",
       "      <th>Date/Time</th>\n",
       "      <th>LV ActivePower (kW)</th>\n",
       "      <th>Wind Speed (m/s)</th>\n",
       "      <th>Theoretical_Power_Curve (KWh)</th>\n",
       "      <th>Wind Direction (°)</th>\n",
       "      <th>date</th>\n",
       "      <th>tavg</th>\n",
       "      <th>tmin</th>\n",
       "      <th>tmax</th>\n",
       "      <th>wdir</th>\n",
       "      <th>wspd</th>\n",
       "    </tr>\n",
       "  </thead>\n",
       "  <tbody>\n",
       "    <tr>\n",
       "      <th>0</th>\n",
       "      <td>2018-01-01</td>\n",
       "      <td>1535.204483</td>\n",
       "      <td>8.022975</td>\n",
       "      <td>1622.990048</td>\n",
       "      <td>229.735242</td>\n",
       "      <td>2018-01-01</td>\n",
       "      <td>9.1</td>\n",
       "      <td>3.0</td>\n",
       "      <td>15.0</td>\n",
       "      <td>214.0</td>\n",
       "      <td>20.8</td>\n",
       "    </tr>\n",
       "    <tr>\n",
       "      <th>1</th>\n",
       "      <td>2018-01-02</td>\n",
       "      <td>3182.564250</td>\n",
       "      <td>12.000548</td>\n",
       "      <td>3314.693471</td>\n",
       "      <td>197.859789</td>\n",
       "      <td>2018-01-02</td>\n",
       "      <td>7.3</td>\n",
       "      <td>5.0</td>\n",
       "      <td>10.0</td>\n",
       "      <td>146.0</td>\n",
       "      <td>15.2</td>\n",
       "    </tr>\n",
       "    <tr>\n",
       "      <th>2</th>\n",
       "      <td>2018-01-03</td>\n",
       "      <td>1017.793340</td>\n",
       "      <td>6.650189</td>\n",
       "      <td>1072.956361</td>\n",
       "      <td>192.476045</td>\n",
       "      <td>2018-01-03</td>\n",
       "      <td>6.4</td>\n",
       "      <td>4.0</td>\n",
       "      <td>7.0</td>\n",
       "      <td>31.0</td>\n",
       "      <td>25.8</td>\n",
       "    </tr>\n",
       "    <tr>\n",
       "      <th>3</th>\n",
       "      <td>2018-01-04</td>\n",
       "      <td>834.486869</td>\n",
       "      <td>6.232531</td>\n",
       "      <td>838.463088</td>\n",
       "      <td>121.299142</td>\n",
       "      <td>2018-01-04</td>\n",
       "      <td>8.7</td>\n",
       "      <td>6.0</td>\n",
       "      <td>12.0</td>\n",
       "      <td>351.0</td>\n",
       "      <td>19.5</td>\n",
       "    </tr>\n",
       "    <tr>\n",
       "      <th>4</th>\n",
       "      <td>2018-01-05</td>\n",
       "      <td>123.717345</td>\n",
       "      <td>3.121434</td>\n",
       "      <td>130.342291</td>\n",
       "      <td>154.906666</td>\n",
       "      <td>2018-01-05</td>\n",
       "      <td>9.1</td>\n",
       "      <td>6.0</td>\n",
       "      <td>12.0</td>\n",
       "      <td>232.0</td>\n",
       "      <td>13.7</td>\n",
       "    </tr>\n",
       "  </tbody>\n",
       "</table>\n",
       "</div>"
      ],
      "text/plain": [
       "   Date/Time  LV ActivePower (kW)  Wind Speed (m/s)  \\\n",
       "0 2018-01-01          1535.204483          8.022975   \n",
       "1 2018-01-02          3182.564250         12.000548   \n",
       "2 2018-01-03          1017.793340          6.650189   \n",
       "3 2018-01-04           834.486869          6.232531   \n",
       "4 2018-01-05           123.717345          3.121434   \n",
       "\n",
       "   Theoretical_Power_Curve (KWh)  Wind Direction (°)       date  tavg  tmin  \\\n",
       "0                    1622.990048          229.735242 2018-01-01   9.1   3.0   \n",
       "1                    3314.693471          197.859789 2018-01-02   7.3   5.0   \n",
       "2                    1072.956361          192.476045 2018-01-03   6.4   4.0   \n",
       "3                     838.463088          121.299142 2018-01-04   8.7   6.0   \n",
       "4                     130.342291          154.906666 2018-01-05   9.1   6.0   \n",
       "\n",
       "   tmax   wdir  wspd  \n",
       "0  15.0  214.0  20.8  \n",
       "1  10.0  146.0  15.2  \n",
       "2   7.0   31.0  25.8  \n",
       "3  12.0  351.0  19.5  \n",
       "4  12.0  232.0  13.7  "
      ]
     },
     "metadata": {},
     "output_type": "display_data"
    }
   ],
   "source": [
    "# Verificar el dataset unificado\n",
    "print(\"Dataset Unificado:\")\n",
    "display(df_merged.head())"
   ]
  },
  {
   "cell_type": "code",
   "execution_count": 333,
   "id": "342d56a8-ac45-4317-9f06-828d34007c04",
   "metadata": {},
   "outputs": [
    {
     "name": "stdout",
     "output_type": "stream",
     "text": [
      "Dataset unificado guardado correctamente en ../data/processed/merged_dataset.csv\n"
     ]
    }
   ],
   "source": [
    "# Guardar dataset procesado\n",
    "df_merged.to_csv('../data/processed/merged_dataset.csv', index=False)\n",
    "print(\"Dataset unificado guardado correctamente en ../data/processed/merged_dataset.csv\")"
   ]
  }
 ],
 "metadata": {
  "kernelspec": {
   "display_name": "Python 3 (ipykernel)",
   "language": "python",
   "name": "python3"
  },
  "language_info": {
   "codemirror_mode": {
    "name": "ipython",
    "version": 3
   },
   "file_extension": ".py",
   "mimetype": "text/x-python",
   "name": "python",
   "nbconvert_exporter": "python",
   "pygments_lexer": "ipython3",
   "version": "3.12.7"
  }
 },
 "nbformat": 4,
 "nbformat_minor": 5
}
