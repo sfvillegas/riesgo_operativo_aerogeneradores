{
 "cells": [
  {
   "cell_type": "markdown",
   "id": "4b62d027-b5fc-4617-98b1-fc7c2a311011",
   "metadata": {},
   "source": [
    "# Proyecto2025_Riesgo_Operativo_Aerogeneradores_RioGrande_TDF\n",
    "\n",
    "**Materia:** Aprendizaje Automático  \n",
    "**Autor:** Sabrina Villegas  \n",
    "**Fecha:** 04 de Junio de 2025  \n",
    "**Notebook:** 03 - Características (Features)\n",
    "\n",
    "---\n",
    "\n",
    "## Objetivo\n",
    "\n",
    "El objetivo de este notebook es:\n",
    "\n",
    "- Crear un **índice de riesgo operativo** combinando variables climáticas.\n",
    "- Definir una variable objetivo **`riesgo_operativo`** en tres categorías: **bajo**, **medio** y **alto**.\n",
    "- Generar variables adicionales que puedan enriquecer el análisis predictivo, y de esa forma mejorar el desempeño del modelo de Machine Learning.\n",
    "\n",
    "---"
   ]
  },
  {
   "cell_type": "code",
   "execution_count": 10,
   "id": "2708fae9-2e93-4f0f-bb10-ef03bb60f031",
   "metadata": {},
   "outputs": [],
   "source": [
    "# Importar librerías\n",
    "import pandas as pd\n",
    "import numpy as np\n"
   ]
  },
  {
   "cell_type": "code",
   "execution_count": 12,
   "id": "64f4e482-c1a3-41c0-9faa-d22135b60b82",
   "metadata": {},
   "outputs": [],
   "source": [
    "# Cargar el dataset procesado\n",
    "path_merged = '../data/processed/merged_dataset.csv'\n",
    "df = pd.read_csv(path_merged)"
   ]
  },
  {
   "cell_type": "code",
   "execution_count": 14,
   "id": "fb05603b-0965-4944-b33d-b60defc533b9",
   "metadata": {},
   "outputs": [],
   "source": [
    "# Crear un índice de riesgo compuesto - Fórmula: combinación ponderada de variables climáticas\n",
    "\n",
    "# Definir riesgo_score\n",
    "# 0.6 * Velocidad del viento + 0.2 * Ráfagas de viento - 0.1 * Temperatura mínima\n",
    "# Ajuste: normalizamos wspd de km/h a m/s dividiendo por 3.6 si queremos que las unidades sean coherentes \n",
    "\n",
    "df['wspd_m_s'] = df['wspd'] / 3.6  # opcional si querés unificar unidades\n"
   ]
  },
  {
   "cell_type": "code",
   "execution_count": 16,
   "id": "72ac673b-3493-4a9a-85b3-c4cfe28029f0",
   "metadata": {},
   "outputs": [],
   "source": [
    "# Crear el riesgo_score\n",
    "df['riesgo_score'] = (\n",
    "    0.6 * df['Wind Speed (m/s)'] +\n",
    "    0.2 * df['wspd_m_s'] - \n",
    "    0.1 * df['tmin']\n",
    ")"
   ]
  },
  {
   "cell_type": "code",
   "execution_count": 18,
   "id": "70a71ba8-75b5-4c61-894d-fddfd9065383",
   "metadata": {},
   "outputs": [],
   "source": [
    "# Crear la variable objetivo basada en riesgo_score\n",
    "# Definimos los umbrales\n",
    "\n",
    "def categorizar_riesgo_compuesto(score):\n",
    "    if score < 10:\n",
    "        return 'Bajo'\n",
    "    elif 10 <= score < 20:\n",
    "        return 'Medio'\n",
    "    else:\n",
    "        return 'Alto'\n",
    "\n",
    "df['riesgo_operativo'] = df['riesgo_score'].apply(categorizar_riesgo_compuesto)"
   ]
  },
  {
   "cell_type": "code",
   "execution_count": 20,
   "id": "d3f695bf-4dab-4ce4-9c4b-c3ac4dcfe6ef",
   "metadata": {},
   "outputs": [
    {
     "name": "stdout",
     "output_type": "stream",
     "text": [
      "Distribución de clases en 'riesgo_operativo':\n",
      "riesgo_operativo\n",
      "Bajo     297\n",
      "Medio     13\n",
      "Alto       9\n",
      "Name: count, dtype: int64\n"
     ]
    }
   ],
   "source": [
    "# 5. Confirmar la distribución de clases\n",
    "\n",
    "print(\"Distribución de clases en 'riesgo_operativo':\")\n",
    "print(df['riesgo_operativo'].value_counts())"
   ]
  },
  {
   "cell_type": "code",
   "execution_count": 26,
   "id": "22998faf-f439-4b06-86a8-f34897d41485",
   "metadata": {},
   "outputs": [],
   "source": [
    "# Crear variables adicionales - Binarizar si el viento es del oeste (270° +/- 45°)\n",
    "\n",
    "def direccion_oeste(direccion):\n",
    "    if (direccion >= 225) and (direccion <= 315):\n",
    "        return 1\n",
    "    else:\n",
    "        return 0\n",
    "\n",
    "df['viento_oeste'] = df['Wind Direction (°)'].apply(direccion_oeste)"
   ]
  },
  {
   "cell_type": "code",
   "execution_count": 28,
   "id": "b3120b47-42a7-40a5-a250-10f6024a7825",
   "metadata": {},
   "outputs": [
    {
     "name": "stdout",
     "output_type": "stream",
     "text": [
      "Dataset final guardado correctamente en ../data/processed/final_dataset.csv\n"
     ]
    }
   ],
   "source": [
    "# Guardar el dataset final preparado\n",
    "df.to_csv('../data/processed/final_dataset.csv', index=False)\n",
    "print(\"Dataset final guardado correctamente en ../data/processed/final_dataset.csv\")"
   ]
  },
  {
   "cell_type": "code",
   "execution_count": null,
   "id": "2f2c578c-9111-4192-8cdd-1882cd3f3d61",
   "metadata": {},
   "outputs": [],
   "source": []
  }
 ],
 "metadata": {
  "kernelspec": {
   "display_name": "Python 3 (ipykernel)",
   "language": "python",
   "name": "python3"
  },
  "language_info": {
   "codemirror_mode": {
    "name": "ipython",
    "version": 3
   },
   "file_extension": ".py",
   "mimetype": "text/x-python",
   "name": "python",
   "nbconvert_exporter": "python",
   "pygments_lexer": "ipython3",
   "version": "3.12.7"
  }
 },
 "nbformat": 4,
 "nbformat_minor": 5
}
