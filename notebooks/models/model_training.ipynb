{
 "cells": [
  {
   "cell_type": "markdown",
   "id": "37fd6175-67dd-43c5-b44c-17f6cb5dfd82",
   "metadata": {},
   "source": [
    "# Proyecto2025_Riesgo_Operativo_Aerogeneradores_RioGrande_TDF\n",
    "\n",
    "**Materia:** Aprendizaje Automático  \n",
    "**Autor:** Sabrina Villegas  \n",
    "**Fecha:** Junio 2025  \n",
    "**Notebook:** 04 - Entrenamiento y Evaluación de Modelos de Clasificación\n",
    "\n",
    "---\n",
    "\n",
    "## Objetivo\n",
    "\n",
    "El objetivo de este notebook es:\n",
    "\n",
    "- Separar los datos en conjuntos de entrenamiento y prueba.\n",
    "- Balancear las clases en el conjunto de entrenamiento utilizando **SMOTE**.\n",
    "- Normalizar las variables cuando sea necesario para ciertos modelos.\n",
    "- Entrenar y evaluar varios algoritmos de clasificación multiclase:\n",
    "  - **Árbol de Decisión**\n",
    "  - **Random Forest**\n",
    "  - **SVM (Máquinas de Vectores de Soporte)**\n",
    "  - **K-Nearest Neighbors (K-NN)**\n",
    "- Comparar el desempeño de los modelos utilizando métricas como:\n",
    "  - Matriz de Confusión\n",
    "  - Accuracy\n",
    "  - Precision\n",
    "  - Recall\n",
    "  - F1-Score\n",
    "\n",
    "---\n"
   ]
  },
  {
   "cell_type": "code",
   "execution_count": 123,
   "id": "9a2c3ca9-56b6-473e-a10b-605a9f9cdf83",
   "metadata": {},
   "outputs": [],
   "source": [
    "# Importar librerías\n",
    "import pandas as pd\n",
    "import numpy as np\n",
    "\n",
    "from sklearn.model_selection import train_test_split\n",
    "from sklearn.preprocessing import StandardScaler\n",
    "from sklearn.metrics import classification_report, confusion_matrix\n",
    "from imblearn.over_sampling import SMOTE\n"
   ]
  },
  {
   "cell_type": "code",
   "execution_count": 125,
   "id": "c75a8d0a-f3a3-4245-920f-557b3e719aae",
   "metadata": {},
   "outputs": [],
   "source": [
    "# Modelos\n",
    "from sklearn.tree import DecisionTreeClassifier\n",
    "from sklearn.ensemble import RandomForestClassifier\n",
    "from sklearn.svm import SVC\n",
    "from sklearn.neighbors import KNeighborsClassifier"
   ]
  },
  {
   "cell_type": "code",
   "execution_count": 127,
   "id": "b3c69e74-3f25-4164-9cd9-e18f2668bec7",
   "metadata": {},
   "outputs": [],
   "source": [
    "# Métricas\n",
    "from sklearn.metrics import classification_report, confusion_matrix, accuracy_score, precision_score, recall_score, f1_score\n",
    "import matplotlib.pyplot as plt\n",
    "import seaborn as sns"
   ]
  },
  {
   "cell_type": "code",
   "execution_count": 129,
   "id": "ac2f9d84-ddaa-48c0-bfb1-8519fe5d1d54",
   "metadata": {},
   "outputs": [
    {
     "name": "stdout",
     "output_type": "stream",
     "text": [
      "Primeras filas del dataset:\n"
     ]
    },
    {
     "data": {
      "text/html": [
       "<div>\n",
       "<style scoped>\n",
       "    .dataframe tbody tr th:only-of-type {\n",
       "        vertical-align: middle;\n",
       "    }\n",
       "\n",
       "    .dataframe tbody tr th {\n",
       "        vertical-align: top;\n",
       "    }\n",
       "\n",
       "    .dataframe thead th {\n",
       "        text-align: right;\n",
       "    }\n",
       "</style>\n",
       "<table border=\"1\" class=\"dataframe\">\n",
       "  <thead>\n",
       "    <tr style=\"text-align: right;\">\n",
       "      <th></th>\n",
       "      <th>Date/Time</th>\n",
       "      <th>LV ActivePower (kW)</th>\n",
       "      <th>Wind Speed (m/s)</th>\n",
       "      <th>Theoretical_Power_Curve (KWh)</th>\n",
       "      <th>Wind Direction (°)</th>\n",
       "      <th>date</th>\n",
       "      <th>tavg</th>\n",
       "      <th>tmin</th>\n",
       "      <th>tmax</th>\n",
       "      <th>wdir</th>\n",
       "      <th>wspd</th>\n",
       "      <th>wspd_m_s</th>\n",
       "      <th>riesgo_score</th>\n",
       "      <th>riesgo_operativo</th>\n",
       "      <th>viento_oeste</th>\n",
       "    </tr>\n",
       "  </thead>\n",
       "  <tbody>\n",
       "    <tr>\n",
       "      <th>0</th>\n",
       "      <td>2018-01-01</td>\n",
       "      <td>1535.204483</td>\n",
       "      <td>8.022975</td>\n",
       "      <td>1622.990048</td>\n",
       "      <td>229.735242</td>\n",
       "      <td>2018-01-01</td>\n",
       "      <td>9.1</td>\n",
       "      <td>3.0</td>\n",
       "      <td>15.0</td>\n",
       "      <td>214.0</td>\n",
       "      <td>20.8</td>\n",
       "      <td>5.777778</td>\n",
       "      <td>5.669340</td>\n",
       "      <td>Bajo</td>\n",
       "      <td>1</td>\n",
       "    </tr>\n",
       "    <tr>\n",
       "      <th>1</th>\n",
       "      <td>2018-01-02</td>\n",
       "      <td>3182.564250</td>\n",
       "      <td>12.000548</td>\n",
       "      <td>3314.693471</td>\n",
       "      <td>197.859789</td>\n",
       "      <td>2018-01-02</td>\n",
       "      <td>7.3</td>\n",
       "      <td>5.0</td>\n",
       "      <td>10.0</td>\n",
       "      <td>146.0</td>\n",
       "      <td>15.2</td>\n",
       "      <td>4.222222</td>\n",
       "      <td>7.544773</td>\n",
       "      <td>Bajo</td>\n",
       "      <td>0</td>\n",
       "    </tr>\n",
       "    <tr>\n",
       "      <th>2</th>\n",
       "      <td>2018-01-03</td>\n",
       "      <td>1017.793340</td>\n",
       "      <td>6.650189</td>\n",
       "      <td>1072.956361</td>\n",
       "      <td>192.476045</td>\n",
       "      <td>2018-01-03</td>\n",
       "      <td>6.4</td>\n",
       "      <td>4.0</td>\n",
       "      <td>7.0</td>\n",
       "      <td>31.0</td>\n",
       "      <td>25.8</td>\n",
       "      <td>7.166667</td>\n",
       "      <td>5.023447</td>\n",
       "      <td>Bajo</td>\n",
       "      <td>0</td>\n",
       "    </tr>\n",
       "    <tr>\n",
       "      <th>3</th>\n",
       "      <td>2018-01-04</td>\n",
       "      <td>834.486869</td>\n",
       "      <td>6.232531</td>\n",
       "      <td>838.463088</td>\n",
       "      <td>121.299142</td>\n",
       "      <td>2018-01-04</td>\n",
       "      <td>8.7</td>\n",
       "      <td>6.0</td>\n",
       "      <td>12.0</td>\n",
       "      <td>351.0</td>\n",
       "      <td>19.5</td>\n",
       "      <td>5.416667</td>\n",
       "      <td>4.222852</td>\n",
       "      <td>Bajo</td>\n",
       "      <td>0</td>\n",
       "    </tr>\n",
       "    <tr>\n",
       "      <th>4</th>\n",
       "      <td>2018-01-05</td>\n",
       "      <td>123.717345</td>\n",
       "      <td>3.121434</td>\n",
       "      <td>130.342291</td>\n",
       "      <td>154.906666</td>\n",
       "      <td>2018-01-05</td>\n",
       "      <td>9.1</td>\n",
       "      <td>6.0</td>\n",
       "      <td>12.0</td>\n",
       "      <td>232.0</td>\n",
       "      <td>13.7</td>\n",
       "      <td>3.805556</td>\n",
       "      <td>2.033971</td>\n",
       "      <td>Bajo</td>\n",
       "      <td>0</td>\n",
       "    </tr>\n",
       "  </tbody>\n",
       "</table>\n",
       "</div>"
      ],
      "text/plain": [
       "    Date/Time  LV ActivePower (kW)  Wind Speed (m/s)  \\\n",
       "0  2018-01-01          1535.204483          8.022975   \n",
       "1  2018-01-02          3182.564250         12.000548   \n",
       "2  2018-01-03          1017.793340          6.650189   \n",
       "3  2018-01-04           834.486869          6.232531   \n",
       "4  2018-01-05           123.717345          3.121434   \n",
       "\n",
       "   Theoretical_Power_Curve (KWh)  Wind Direction (°)        date  tavg  tmin  \\\n",
       "0                    1622.990048          229.735242  2018-01-01   9.1   3.0   \n",
       "1                    3314.693471          197.859789  2018-01-02   7.3   5.0   \n",
       "2                    1072.956361          192.476045  2018-01-03   6.4   4.0   \n",
       "3                     838.463088          121.299142  2018-01-04   8.7   6.0   \n",
       "4                     130.342291          154.906666  2018-01-05   9.1   6.0   \n",
       "\n",
       "   tmax   wdir  wspd  wspd_m_s  riesgo_score riesgo_operativo  viento_oeste  \n",
       "0  15.0  214.0  20.8  5.777778      5.669340             Bajo             1  \n",
       "1  10.0  146.0  15.2  4.222222      7.544773             Bajo             0  \n",
       "2   7.0   31.0  25.8  7.166667      5.023447             Bajo             0  \n",
       "3  12.0  351.0  19.5  5.416667      4.222852             Bajo             0  \n",
       "4  12.0  232.0  13.7  3.805556      2.033971             Bajo             0  "
      ]
     },
     "metadata": {},
     "output_type": "display_data"
    }
   ],
   "source": [
    "# Cargar el dataset procesado\n",
    "df = pd.read_csv('../data/processed/final_dataset.csv')\n",
    "\n",
    "print(\"Primeras filas del dataset:\")\n",
    "display(df.head())"
   ]
  },
  {
   "cell_type": "code",
   "execution_count": 131,
   "id": "33644423-2963-4892-b516-188dcafa1064",
   "metadata": {},
   "outputs": [],
   "source": [
    "# 3. Preparar X (features) e y (target)\n",
    "# Definir variables predictoras y Objetivo\n",
    "\n",
    "X = df.drop(columns=['Date/Time', 'date', 'riesgo_operativo'])\n",
    "X = X.select_dtypes(include=[np.number])  # Mantener solo variables numéricas\n",
    "y = df['riesgo_operativo'] #Variable objetivo\n"
   ]
  },
  {
   "cell_type": "code",
   "execution_count": 133,
   "id": "8841d933-1569-472e-88eb-af1723e3aaf6",
   "metadata": {},
   "outputs": [],
   "source": [
    "# División 80% train, 20% test\n",
    "X_train, X_test, y_train, y_test = train_test_split(\n",
    "    X, y, test_size=0.2, stratify=y, random_state=42\n",
    ")"
   ]
  },
  {
   "cell_type": "code",
   "execution_count": 135,
   "id": "ce00cf19-67cc-4174-aea3-ef717294bd84",
   "metadata": {},
   "outputs": [],
   "source": [
    "# 5. Imputar Valores Faltantes\n",
    "X_train = X_train.fillna(X_train.mean())\n",
    "X_test = X_test.fillna(X_test.mean())"
   ]
  },
  {
   "cell_type": "code",
   "execution_count": 137,
   "id": "9aebcb56-2d75-46f4-9e37-45ee19361e86",
   "metadata": {},
   "outputs": [],
   "source": [
    "# 5. Aplicar SMOTE solo en el train\n",
    "smote = SMOTE(random_state=42)\n",
    "X_train_bal, y_train_bal = smote.fit_resample(X_train, y_train)\n"
   ]
  },
  {
   "cell_type": "code",
   "execution_count": 139,
   "id": "444bdc1b-1c82-4902-a386-d14d5fcfa9de",
   "metadata": {},
   "outputs": [],
   "source": [
    "# 7. Estandarizar Datos (Para SVM y K-NN)\n",
    "scaler = StandardScaler()\n",
    "X_train_bal_scaled = scaler.fit_transform(X_train_bal)\n",
    "X_test_scaled = scaler.transform(X_test)"
   ]
  },
  {
   "cell_type": "code",
   "execution_count": 141,
   "id": "5f3e3a92-7091-4f41-af58-89a3f33a455f",
   "metadata": {},
   "outputs": [
    {
     "name": "stdout",
     "output_type": "stream",
     "text": [
      "\n",
      "Entrenando modelo: Decision Tree\n",
      "[[ 0  2  0]\n",
      " [ 0 59  0]\n",
      " [ 0  1  2]]\n",
      "              precision    recall  f1-score   support\n",
      "\n",
      "        Alto       0.00      0.00      0.00         2\n",
      "        Bajo       0.95      1.00      0.98        59\n",
      "       Medio       1.00      0.67      0.80         3\n",
      "\n",
      "    accuracy                           0.95        64\n",
      "   macro avg       0.65      0.56      0.59        64\n",
      "weighted avg       0.92      0.95      0.94        64\n",
      "\n",
      "\n",
      "Entrenando modelo: Random Forest\n"
     ]
    },
    {
     "name": "stderr",
     "output_type": "stream",
     "text": [
      "C:\\Users\\sabri\\anaconda3\\Lib\\site-packages\\sklearn\\metrics\\_classification.py:1531: UndefinedMetricWarning: Precision is ill-defined and being set to 0.0 in labels with no predicted samples. Use `zero_division` parameter to control this behavior.\n",
      "  _warn_prf(average, modifier, f\"{metric.capitalize()} is\", len(result))\n",
      "C:\\Users\\sabri\\anaconda3\\Lib\\site-packages\\sklearn\\metrics\\_classification.py:1531: UndefinedMetricWarning: Precision is ill-defined and being set to 0.0 in labels with no predicted samples. Use `zero_division` parameter to control this behavior.\n",
      "  _warn_prf(average, modifier, f\"{metric.capitalize()} is\", len(result))\n",
      "C:\\Users\\sabri\\anaconda3\\Lib\\site-packages\\sklearn\\metrics\\_classification.py:1531: UndefinedMetricWarning: Precision is ill-defined and being set to 0.0 in labels with no predicted samples. Use `zero_division` parameter to control this behavior.\n",
      "  _warn_prf(average, modifier, f\"{metric.capitalize()} is\", len(result))\n",
      "C:\\Users\\sabri\\anaconda3\\Lib\\site-packages\\sklearn\\metrics\\_classification.py:1531: UndefinedMetricWarning: Precision is ill-defined and being set to 0.0 in labels with no predicted samples. Use `zero_division` parameter to control this behavior.\n",
      "  _warn_prf(average, modifier, f\"{metric.capitalize()} is\", len(result))\n",
      "C:\\Users\\sabri\\anaconda3\\Lib\\site-packages\\sklearn\\metrics\\_classification.py:1531: UndefinedMetricWarning: Precision is ill-defined and being set to 0.0 in labels with no predicted samples. Use `zero_division` parameter to control this behavior.\n",
      "  _warn_prf(average, modifier, f\"{metric.capitalize()} is\", len(result))\n",
      "C:\\Users\\sabri\\anaconda3\\Lib\\site-packages\\sklearn\\metrics\\_classification.py:1531: UndefinedMetricWarning: Precision is ill-defined and being set to 0.0 in labels with no predicted samples. Use `zero_division` parameter to control this behavior.\n",
      "  _warn_prf(average, modifier, f\"{metric.capitalize()} is\", len(result))\n"
     ]
    },
    {
     "name": "stdout",
     "output_type": "stream",
     "text": [
      "[[ 0  2  0]\n",
      " [ 0 59  0]\n",
      " [ 0  1  2]]\n",
      "              precision    recall  f1-score   support\n",
      "\n",
      "        Alto       0.00      0.00      0.00         2\n",
      "        Bajo       0.95      1.00      0.98        59\n",
      "       Medio       1.00      0.67      0.80         3\n",
      "\n",
      "    accuracy                           0.95        64\n",
      "   macro avg       0.65      0.56      0.59        64\n",
      "weighted avg       0.92      0.95      0.94        64\n",
      "\n",
      "\n",
      "Entrenando modelo: SVM\n",
      "[[ 2  0  0]\n",
      " [ 4 55  0]\n",
      " [ 0  1  2]]\n",
      "              precision    recall  f1-score   support\n",
      "\n",
      "        Alto       0.33      1.00      0.50         2\n",
      "        Bajo       0.98      0.93      0.96        59\n",
      "       Medio       1.00      0.67      0.80         3\n",
      "\n",
      "    accuracy                           0.92        64\n",
      "   macro avg       0.77      0.87      0.75        64\n",
      "weighted avg       0.96      0.92      0.93        64\n",
      "\n",
      "\n",
      "Entrenando modelo: K-NN\n",
      "[[ 2  0  0]\n",
      " [ 7 50  2]\n",
      " [ 0  0  3]]\n",
      "              precision    recall  f1-score   support\n",
      "\n",
      "        Alto       0.22      1.00      0.36         2\n",
      "        Bajo       1.00      0.85      0.92        59\n",
      "       Medio       0.60      1.00      0.75         3\n",
      "\n",
      "    accuracy                           0.86        64\n",
      "   macro avg       0.61      0.95      0.68        64\n",
      "weighted avg       0.96      0.86      0.89        64\n",
      "\n"
     ]
    },
    {
     "name": "stderr",
     "output_type": "stream",
     "text": [
      "C:\\Users\\sabri\\anaconda3\\Lib\\site-packages\\sklearn\\metrics\\_classification.py:1531: UndefinedMetricWarning: Precision is ill-defined and being set to 0.0 in labels with no predicted samples. Use `zero_division` parameter to control this behavior.\n",
      "  _warn_prf(average, modifier, f\"{metric.capitalize()} is\", len(result))\n",
      "C:\\Users\\sabri\\anaconda3\\Lib\\site-packages\\sklearn\\metrics\\_classification.py:1531: UndefinedMetricWarning: Precision is ill-defined and being set to 0.0 in labels with no predicted samples. Use `zero_division` parameter to control this behavior.\n",
      "  _warn_prf(average, modifier, f\"{metric.capitalize()} is\", len(result))\n",
      "C:\\Users\\sabri\\anaconda3\\Lib\\site-packages\\sklearn\\metrics\\_classification.py:1531: UndefinedMetricWarning: Precision is ill-defined and being set to 0.0 in labels with no predicted samples. Use `zero_division` parameter to control this behavior.\n",
      "  _warn_prf(average, modifier, f\"{metric.capitalize()} is\", len(result))\n",
      "C:\\Users\\sabri\\anaconda3\\Lib\\site-packages\\sklearn\\metrics\\_classification.py:1531: UndefinedMetricWarning: Precision is ill-defined and being set to 0.0 in labels with no predicted samples. Use `zero_division` parameter to control this behavior.\n",
      "  _warn_prf(average, modifier, f\"{metric.capitalize()} is\", len(result))\n",
      "C:\\Users\\sabri\\anaconda3\\Lib\\site-packages\\sklearn\\metrics\\_classification.py:1531: UndefinedMetricWarning: Precision is ill-defined and being set to 0.0 in labels with no predicted samples. Use `zero_division` parameter to control this behavior.\n",
      "  _warn_prf(average, modifier, f\"{metric.capitalize()} is\", len(result))\n",
      "C:\\Users\\sabri\\anaconda3\\Lib\\site-packages\\sklearn\\metrics\\_classification.py:1531: UndefinedMetricWarning: Precision is ill-defined and being set to 0.0 in labels with no predicted samples. Use `zero_division` parameter to control this behavior.\n",
      "  _warn_prf(average, modifier, f\"{metric.capitalize()} is\", len(result))\n"
     ]
    }
   ],
   "source": [
    "# 8. Entrenamiento de Modelos\n",
    "modelos = {\n",
    "    'Decision Tree': DecisionTreeClassifier(random_state=42),\n",
    "    'Random Forest': RandomForestClassifier(random_state=42),\n",
    "    'SVM': SVC(random_state=42),\n",
    "    'K-NN': KNeighborsClassifier()\n",
    "}\n",
    "\n",
    "resultados = {}\n",
    "\n",
    "for nombre, modelo in modelos.items():\n",
    "    print(f\"\\nEntrenando modelo: {nombre}\")\n",
    "    \n",
    "    if nombre in ['SVM', 'K-NN']:\n",
    "        modelo.fit(X_train_bal_scaled, y_train_bal)\n",
    "        y_pred = modelo.predict(X_test_scaled)\n",
    "    else:\n",
    "        modelo.fit(X_train_bal, y_train_bal)\n",
    "        y_pred = modelo.predict(X_test)\n",
    "\n",
    "    print(confusion_matrix(y_test, y_pred))\n",
    "    print(classification_report(y_test, y_pred))\n",
    "\n",
    "    resultados[nombre] = classification_report(y_test, y_pred, output_dict=True)\n"
   ]
  },
  {
   "cell_type": "code",
   "execution_count": 147,
   "id": "3c7758f8-1c4f-4320-afc9-6e4c671d3c79",
   "metadata": {},
   "outputs": [
    {
     "name": "stdout",
     "output_type": "stream",
     "text": [
      "Resumen Comparativo de Modelos:\n"
     ]
    },
    {
     "data": {
      "text/html": [
       "<div>\n",
       "<style scoped>\n",
       "    .dataframe tbody tr th:only-of-type {\n",
       "        vertical-align: middle;\n",
       "    }\n",
       "\n",
       "    .dataframe tbody tr th {\n",
       "        vertical-align: top;\n",
       "    }\n",
       "\n",
       "    .dataframe thead th {\n",
       "        text-align: right;\n",
       "    }\n",
       "</style>\n",
       "<table border=\"1\" class=\"dataframe\">\n",
       "  <thead>\n",
       "    <tr style=\"text-align: right;\">\n",
       "      <th></th>\n",
       "      <th>Accuracy</th>\n",
       "      <th>Precision (Macro)</th>\n",
       "      <th>Recall (Macro)</th>\n",
       "      <th>F1-Score (Macro)</th>\n",
       "    </tr>\n",
       "  </thead>\n",
       "  <tbody>\n",
       "    <tr>\n",
       "      <th>Decision Tree</th>\n",
       "      <td>0.953125</td>\n",
       "      <td>0.650538</td>\n",
       "      <td>0.555556</td>\n",
       "      <td>0.591736</td>\n",
       "    </tr>\n",
       "    <tr>\n",
       "      <th>Random Forest</th>\n",
       "      <td>0.953125</td>\n",
       "      <td>0.650538</td>\n",
       "      <td>0.555556</td>\n",
       "      <td>0.591736</td>\n",
       "    </tr>\n",
       "    <tr>\n",
       "      <th>SVM</th>\n",
       "      <td>0.921875</td>\n",
       "      <td>0.771825</td>\n",
       "      <td>0.866290</td>\n",
       "      <td>0.752174</td>\n",
       "    </tr>\n",
       "    <tr>\n",
       "      <th>K-NN</th>\n",
       "      <td>0.859375</td>\n",
       "      <td>0.607407</td>\n",
       "      <td>0.949153</td>\n",
       "      <td>0.677023</td>\n",
       "    </tr>\n",
       "  </tbody>\n",
       "</table>\n",
       "</div>"
      ],
      "text/plain": [
       "               Accuracy  Precision (Macro)  Recall (Macro)  F1-Score (Macro)\n",
       "Decision Tree  0.953125           0.650538        0.555556          0.591736\n",
       "Random Forest  0.953125           0.650538        0.555556          0.591736\n",
       "SVM            0.921875           0.771825        0.866290          0.752174\n",
       "K-NN           0.859375           0.607407        0.949153          0.677023"
      ]
     },
     "metadata": {},
     "output_type": "display_data"
    }
   ],
   "source": [
    "# 9. Comparación de Modelos\n",
    "summary = pd.DataFrame({\n",
    "    modelo: {\n",
    "        'Accuracy': resultados[modelo]['accuracy'],\n",
    "        'Precision (Macro)': resultados[modelo]['macro avg']['precision'],\n",
    "        'Recall (Macro)': resultados[modelo]['macro avg']['recall'],\n",
    "        'F1-Score (Macro)': resultados[modelo]['macro avg']['f1-score']\n",
    "    }\n",
    "    for modelo in resultados\n",
    "}).T\n",
    "\n",
    "print(\"Resumen Comparativo de Modelos:\")\n",
    "display(summary)"
   ]
  },
  {
   "cell_type": "code",
   "execution_count": 149,
   "id": "59e4354c-d875-4f26-af7a-ae646c88c0af",
   "metadata": {},
   "outputs": [
    {
     "data": {
      "image/png": "[encoded data removed]",
      "text/plain": [
       "<Figure size 1200x600 with 1 Axes>"
      ]
     },
     "metadata": {},
     "output_type": "display_data"
    }
   ],
   "source": [
    "import matplotlib.pyplot as plt\n",
    "\n",
    "# Graficar resultados\n",
    "summary.plot(kind='bar', figsize=(12, 6))\n",
    "plt.title('Comparación de Modelos - Accuracy, Precision, Recall, F1-Score')\n",
    "plt.ylabel('Score')\n",
    "plt.xlabel('Modelos')\n",
    "plt.ylim(0, 1)\n",
    "plt.xticks(rotation=45)\n",
    "plt.grid(axis='y')\n",
    "plt.legend(loc='lower right')\n",
    "plt.show()"
   ]
  },
  {
   "cell_type": "code",
   "execution_count": 155,
   "id": "575fdaf4-4364-4857-8063-fd1f2fbd523a",
   "metadata": {},
   "outputs": [
    {
     "name": "stdout",
     "output_type": "stream",
     "text": [
      "Resumen Comparativo de Modelos (Ordenado por F1-Score):\n"
     ]
    },
    {
     "data": {
      "text/html": [
       "<div>\n",
       "<style scoped>\n",
       "    .dataframe tbody tr th:only-of-type {\n",
       "        vertical-align: middle;\n",
       "    }\n",
       "\n",
       "    .dataframe tbody tr th {\n",
       "        vertical-align: top;\n",
       "    }\n",
       "\n",
       "    .dataframe thead th {\n",
       "        text-align: right;\n",
       "    }\n",
       "</style>\n",
       "<table border=\"1\" class=\"dataframe\">\n",
       "  <thead>\n",
       "    <tr style=\"text-align: right;\">\n",
       "      <th></th>\n",
       "      <th>Accuracy</th>\n",
       "      <th>Precision (Macro)</th>\n",
       "      <th>Recall (Macro)</th>\n",
       "      <th>F1-Score (Macro)</th>\n",
       "    </tr>\n",
       "  </thead>\n",
       "  <tbody>\n",
       "    <tr>\n",
       "      <th>SVM</th>\n",
       "      <td>0.921875</td>\n",
       "      <td>0.771825</td>\n",
       "      <td>0.866290</td>\n",
       "      <td>0.752174</td>\n",
       "    </tr>\n",
       "    <tr>\n",
       "      <th>K-NN</th>\n",
       "      <td>0.859375</td>\n",
       "      <td>0.607407</td>\n",
       "      <td>0.949153</td>\n",
       "      <td>0.677023</td>\n",
       "    </tr>\n",
       "    <tr>\n",
       "      <th>Decision Tree</th>\n",
       "      <td>0.953125</td>\n",
       "      <td>0.650538</td>\n",
       "      <td>0.555556</td>\n",
       "      <td>0.591736</td>\n",
       "    </tr>\n",
       "    <tr>\n",
       "      <th>Random Forest</th>\n",
       "      <td>0.953125</td>\n",
       "      <td>0.650538</td>\n",
       "      <td>0.555556</td>\n",
       "      <td>0.591736</td>\n",
       "    </tr>\n",
       "  </tbody>\n",
       "</table>\n",
       "</div>"
      ],
      "text/plain": [
       "               Accuracy  Precision (Macro)  Recall (Macro)  F1-Score (Macro)\n",
       "SVM            0.921875           0.771825        0.866290          0.752174\n",
       "K-NN           0.859375           0.607407        0.949153          0.677023\n",
       "Decision Tree  0.953125           0.650538        0.555556          0.591736\n",
       "Random Forest  0.953125           0.650538        0.555556          0.591736"
      ]
     },
     "metadata": {},
     "output_type": "display_data"
    },
    {
     "name": "stdout",
     "output_type": "stream",
     "text": [
      "🏆 El mejor modelo según F1-Score es: SVM\n"
     ]
    }
   ],
   "source": [
    "# 1. Ordenar por F1-Score Macro\n",
    "summary_sorted = summary.sort_values(by='F1-Score (Macro)', ascending=False)\n",
    "\n",
    "# 2. Mostrar tabla ordenada\n",
    "print(\"Resumen Comparativo de Modelos (Ordenado por F1-Score):\")\n",
    "display(summary_sorted)\n",
    "\n",
    "# 3. Mostrar Mejor Modelo\n",
    "mejor_modelo = summary_sorted.index[0]\n",
    "print(f\"🏆 El mejor modelo según F1-Score es: {mejor_modelo}\")"
   ]
  },
  {
   "cell_type": "code",
   "execution_count": 157,
   "id": "12671b03-c1e6-4348-b240-2c0db04d506e",
   "metadata": {},
   "outputs": [
    {
     "data": {
      "image/png": "[encoded data removed]",
      "text/plain": [
       "<Figure size 800x600 with 2 Axes>"
      ]
     },
     "metadata": {},
     "output_type": "display_data"
    }
   ],
   "source": [
    "# Reentrenar mejor modelo si hace falta (opcional)\n",
    "modelo_seleccionado = modelos[mejor_modelo]\n",
    "\n",
    "if mejor_modelo in ['SVM', 'K-NN']:\n",
    "    modelo_seleccionado.fit(X_train_bal_scaled, y_train_bal)\n",
    "    y_pred_mejor = modelo_seleccionado.predict(X_test_scaled)\n",
    "else:\n",
    "    modelo_seleccionado.fit(X_train_bal, y_train_bal)\n",
    "    y_pred_mejor = modelo_seleccionado.predict(X_test)\n",
    "\n",
    "# 4. Generar matriz de confusión\n",
    "matriz_confusion = confusion_matrix(y_test, y_pred_mejor)\n",
    "\n",
    "# 5. Graficar\n",
    "plt.figure(figsize=(8, 6))\n",
    "sns.heatmap(matriz_confusion, annot=True, fmt='d', cmap='Blues',\n",
    "            xticklabels=np.unique(y_test), yticklabels=np.unique(y_test))\n",
    "plt.title(f'Matriz de Confusión - {mejor_modelo}')\n",
    "plt.xlabel('Predicción')\n",
    "plt.ylabel('Real')\n",
    "plt.show()"
   ]
  },
  {
   "cell_type": "code",
   "execution_count": 1,
   "id": "e4f3b941-682e-4fde-a034-acd245367383",
   "metadata": {},
   "outputs": [
    {
     "ename": "NameError",
     "evalue": "name 'RandomForestClassifier' is not defined",
     "output_type": "error",
     "traceback": [
      "\u001b[1;31m---------------------------------------------------------------------------\u001b[0m",
      "\u001b[1;31mNameError\u001b[0m                                 Traceback (most recent call last)",
      "Cell \u001b[1;32mIn[1], line 2\u001b[0m\n\u001b[0;32m      1\u001b[0m \u001b[38;5;66;03m# 1. Reentrenar el modelo Random Forest (si es necesario)\u001b[39;00m\n\u001b[1;32m----> 2\u001b[0m rf_model \u001b[38;5;241m=\u001b[39m RandomForestClassifier(random_state\u001b[38;5;241m=\u001b[39m\u001b[38;5;241m42\u001b[39m)\n\u001b[0;32m      3\u001b[0m rf_model\u001b[38;5;241m.\u001b[39mfit(X_train_bal, y_train_bal)\n",
      "\u001b[1;31mNameError\u001b[0m: name 'RandomForestClassifier' is not defined"
     ]
    }
   ],
   "source": [
    "# 1. Reentrenar el modelo Random Forest (si es necesario)\n",
    "rf_model = RandomForestClassifier(random_state=42)\n",
    "rf_model.fit(X_train_bal, y_train_bal)\n"
   ]
  },
  {
   "cell_type": "code",
   "execution_count": null,
   "id": "122e6cdc-6ff7-405b-99db-b17029e4faf4",
   "metadata": {},
   "outputs": [],
   "source": []
  }
 ],
 "metadata": {
  "kernelspec": {
   "display_name": "Python 3 (ipykernel)",
   "language": "python",
   "name": "python3"
  },
  "language_info": {
   "codemirror_mode": {
    "name": "ipython",
    "version": 3
   },
   "file_extension": ".py",
   "mimetype": "text/x-python",
   "name": "python",
   "nbconvert_exporter": "python",
   "pygments_lexer": "ipython3",
   "version": "3.12.7"
  }
 },
 "nbformat": 4,
 "nbformat_minor": 5
}
