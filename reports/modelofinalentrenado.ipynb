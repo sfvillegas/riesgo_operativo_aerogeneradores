{
 "cells": [
  {
   "cell_type": "markdown",
   "id": "53d65830-59e8-4558-a9ef-e5f3b5e9f372",
   "metadata": {},
   "source": [
    "# Proyecto2025_Riesgo_Operativo_Aerogeneradores_RioGrande_TDF\n",
    "\n",
    "**Carrera:** Técnico en Ciencia de Datos e Inteligencia Artificial  \n",
    "**Materia:** Aprendizaje Automático  \n",
    "**Autor:** Sabrina Villegas  \n",
    "**Fecha:** Junio 2025  \n",
    "**Notebook:** Proyecto Final - Modelo Unificado\n",
    "\n",
    "---\n",
    "\n",
    "Este notebook contiene todas las etapas del proyecto: desde la carga y preprocesamiento de los datos hasta el entrenamiento del modelo predictivo y análisis de resultados.\n",
    "\n",
    "El objetivo general es desarrollar un modelo de clasificación multiclase capaz de predecir el nivel de riesgo operativo (bajo, medio o alto) de los aerogeneradores del Parque Eólico Río Cullen, en Tierra del Fuego, Argentina, utilizando datos operativos y meteorológicos.\n",
    "\n",
    "Las acciones principales incluyen:\n",
    "\n",
    "- Limpieza y unificación de datasets operativos y meteorológicos.\n",
    "- Análisis exploratorio de variables relevantes.\n",
    "- Creación de características y variable objetivo.\n",
    "- Entrenamiento y evaluación de modelos supervisados.\n",
    "- Interpretación de métricas y recomendaciones finales.\n",
    "\n",
    "---"
   ]
  },
  {
   "cell_type": "code",
   "execution_count": 11,
   "id": "eeb217f3-8a0d-4a51-b1fb-1bb5103bc69d",
   "metadata": {},
   "outputs": [],
   "source": [
    "# Importar librerías\n",
    "import pandas as pd\n",
    "import numpy as np\n",
    "\n",
    "# Cargar datasets\n",
    "path_operativo = '../data/raw/T1.csv'\n",
    "path_meteorologico = '../data/raw/export.csv'"
   ]
  },
  {
   "cell_type": "markdown",
   "id": "d520371c-ffc7-4faf-b468-1a801c58d58a",
   "metadata": {},
   "source": [
    "Se importan las librerías esenciales para procesamiento de datos y se definen las rutas hacia los archivos originales: el dataset operativo de SCADA y el meteorológico"
   ]
  },
  {
   "cell_type": "code",
   "execution_count": 14,
   "id": "bf542094-e55d-4193-8c52-2bc89d48fffe",
   "metadata": {},
   "outputs": [],
   "source": [
    "# Carga con ajuste de separador y encoding para meteorológico\n",
    "df_operativo = pd.read_csv(path_operativo)\n",
    "df_meteorologico = pd.read_csv(path_meteorologico)"
   ]
  },
  {
   "cell_type": "markdown",
   "id": "0c99bedf-a062-4760-8344-def3533a3185",
   "metadata": {},
   "source": [
    "Se leen los datos desde archivos .csv y se convierten en DataFrame para su análisis posterior. Se espera que uno tenga registros cada 10 minutos (SCADA) y el otro datos diarios."
   ]
  },
  {
   "cell_type": "code",
   "execution_count": 17,
   "id": "021ff573-2f68-428a-a2c5-57cd92b6931b",
   "metadata": {},
   "outputs": [
    {
     "name": "stdout",
     "output_type": "stream",
     "text": [
      "Dataset Operativo (SCADA):\n"
     ]
    },
    {
     "data": {
      "text/html": [
       "<div>\n",
       "<style scoped>\n",
       "    .dataframe tbody tr th:only-of-type {\n",
       "        vertical-align: middle;\n",
       "    }\n",
       "\n",
       "    .dataframe tbody tr th {\n",
       "        vertical-align: top;\n",
       "    }\n",
       "\n",
       "    .dataframe thead th {\n",
       "        text-align: right;\n",
       "    }\n",
       "</style>\n",
       "<table border=\"1\" class=\"dataframe\">\n",
       "  <thead>\n",
       "    <tr style=\"text-align: right;\">\n",
       "      <th></th>\n",
       "      <th>Date/Time</th>\n",
       "      <th>LV ActivePower (kW)</th>\n",
       "      <th>Wind Speed (m/s)</th>\n",
       "      <th>Theoretical_Power_Curve (KWh)</th>\n",
       "      <th>Wind Direction (°)</th>\n",
       "    </tr>\n",
       "  </thead>\n",
       "  <tbody>\n",
       "    <tr>\n",
       "      <th>0</th>\n",
       "      <td>01 01 2018 00:00</td>\n",
       "      <td>380.047791</td>\n",
       "      <td>5.311336</td>\n",
       "      <td>416.328908</td>\n",
       "      <td>259.994904</td>\n",
       "    </tr>\n",
       "    <tr>\n",
       "      <th>1</th>\n",
       "      <td>01 01 2018 00:10</td>\n",
       "      <td>453.769196</td>\n",
       "      <td>5.672167</td>\n",
       "      <td>519.917511</td>\n",
       "      <td>268.641113</td>\n",
       "    </tr>\n",
       "    <tr>\n",
       "      <th>2</th>\n",
       "      <td>01 01 2018 00:20</td>\n",
       "      <td>306.376587</td>\n",
       "      <td>5.216037</td>\n",
       "      <td>390.900016</td>\n",
       "      <td>272.564789</td>\n",
       "    </tr>\n",
       "    <tr>\n",
       "      <th>3</th>\n",
       "      <td>01 01 2018 00:30</td>\n",
       "      <td>419.645905</td>\n",
       "      <td>5.659674</td>\n",
       "      <td>516.127569</td>\n",
       "      <td>271.258087</td>\n",
       "    </tr>\n",
       "    <tr>\n",
       "      <th>4</th>\n",
       "      <td>01 01 2018 00:40</td>\n",
       "      <td>380.650696</td>\n",
       "      <td>5.577941</td>\n",
       "      <td>491.702972</td>\n",
       "      <td>265.674286</td>\n",
       "    </tr>\n",
       "  </tbody>\n",
       "</table>\n",
       "</div>"
      ],
      "text/plain": [
       "          Date/Time  LV ActivePower (kW)  Wind Speed (m/s)  \\\n",
       "0  01 01 2018 00:00           380.047791          5.311336   \n",
       "1  01 01 2018 00:10           453.769196          5.672167   \n",
       "2  01 01 2018 00:20           306.376587          5.216037   \n",
       "3  01 01 2018 00:30           419.645905          5.659674   \n",
       "4  01 01 2018 00:40           380.650696          5.577941   \n",
       "\n",
       "   Theoretical_Power_Curve (KWh)  Wind Direction (°)  \n",
       "0                     416.328908          259.994904  \n",
       "1                     519.917511          268.641113  \n",
       "2                     390.900016          272.564789  \n",
       "3                     516.127569          271.258087  \n",
       "4                     491.702972          265.674286  "
      ]
     },
     "metadata": {},
     "output_type": "display_data"
    },
    {
     "name": "stdout",
     "output_type": "stream",
     "text": [
      "Dataset Meteorológico:\n"
     ]
    },
    {
     "data": {
      "text/html": [
       "<div>\n",
       "<style scoped>\n",
       "    .dataframe tbody tr th:only-of-type {\n",
       "        vertical-align: middle;\n",
       "    }\n",
       "\n",
       "    .dataframe tbody tr th {\n",
       "        vertical-align: top;\n",
       "    }\n",
       "\n",
       "    .dataframe thead th {\n",
       "        text-align: right;\n",
       "    }\n",
       "</style>\n",
       "<table border=\"1\" class=\"dataframe\">\n",
       "  <thead>\n",
       "    <tr style=\"text-align: right;\">\n",
       "      <th></th>\n",
       "      <th>date</th>\n",
       "      <th>tavg</th>\n",
       "      <th>tmin</th>\n",
       "      <th>tmax</th>\n",
       "      <th>prcp</th>\n",
       "      <th>snow</th>\n",
       "      <th>wdir</th>\n",
       "      <th>wspd</th>\n",
       "      <th>wpgt</th>\n",
       "      <th>pres</th>\n",
       "      <th>tsun</th>\n",
       "    </tr>\n",
       "  </thead>\n",
       "  <tbody>\n",
       "    <tr>\n",
       "      <th>0</th>\n",
       "      <td>2018-01-01 00:00:00</td>\n",
       "      <td>9.1</td>\n",
       "      <td>3.0</td>\n",
       "      <td>15.0</td>\n",
       "      <td>NaN</td>\n",
       "      <td>NaN</td>\n",
       "      <td>214.0</td>\n",
       "      <td>20.8</td>\n",
       "      <td>NaN</td>\n",
       "      <td>NaN</td>\n",
       "      <td>NaN</td>\n",
       "    </tr>\n",
       "    <tr>\n",
       "      <th>1</th>\n",
       "      <td>2018-01-02 00:00:00</td>\n",
       "      <td>7.3</td>\n",
       "      <td>5.0</td>\n",
       "      <td>10.0</td>\n",
       "      <td>NaN</td>\n",
       "      <td>NaN</td>\n",
       "      <td>146.0</td>\n",
       "      <td>15.2</td>\n",
       "      <td>NaN</td>\n",
       "      <td>NaN</td>\n",
       "      <td>NaN</td>\n",
       "    </tr>\n",
       "    <tr>\n",
       "      <th>2</th>\n",
       "      <td>2018-01-03 00:00:00</td>\n",
       "      <td>6.4</td>\n",
       "      <td>4.0</td>\n",
       "      <td>7.0</td>\n",
       "      <td>NaN</td>\n",
       "      <td>NaN</td>\n",
       "      <td>31.0</td>\n",
       "      <td>25.8</td>\n",
       "      <td>NaN</td>\n",
       "      <td>NaN</td>\n",
       "      <td>NaN</td>\n",
       "    </tr>\n",
       "    <tr>\n",
       "      <th>3</th>\n",
       "      <td>2018-01-04 00:00:00</td>\n",
       "      <td>8.7</td>\n",
       "      <td>6.0</td>\n",
       "      <td>12.0</td>\n",
       "      <td>NaN</td>\n",
       "      <td>NaN</td>\n",
       "      <td>351.0</td>\n",
       "      <td>19.5</td>\n",
       "      <td>NaN</td>\n",
       "      <td>NaN</td>\n",
       "      <td>NaN</td>\n",
       "    </tr>\n",
       "    <tr>\n",
       "      <th>4</th>\n",
       "      <td>2018-01-05 00:00:00</td>\n",
       "      <td>9.1</td>\n",
       "      <td>6.0</td>\n",
       "      <td>12.0</td>\n",
       "      <td>NaN</td>\n",
       "      <td>NaN</td>\n",
       "      <td>232.0</td>\n",
       "      <td>13.7</td>\n",
       "      <td>NaN</td>\n",
       "      <td>995.8</td>\n",
       "      <td>NaN</td>\n",
       "    </tr>\n",
       "  </tbody>\n",
       "</table>\n",
       "</div>"
      ],
      "text/plain": [
       "                  date  tavg  tmin  tmax  prcp  snow   wdir  wspd  wpgt  \\\n",
       "0  2018-01-01 00:00:00   9.1   3.0  15.0   NaN   NaN  214.0  20.8   NaN   \n",
       "1  2018-01-02 00:00:00   7.3   5.0  10.0   NaN   NaN  146.0  15.2   NaN   \n",
       "2  2018-01-03 00:00:00   6.4   4.0   7.0   NaN   NaN   31.0  25.8   NaN   \n",
       "3  2018-01-04 00:00:00   8.7   6.0  12.0   NaN   NaN  351.0  19.5   NaN   \n",
       "4  2018-01-05 00:00:00   9.1   6.0  12.0   NaN   NaN  232.0  13.7   NaN   \n",
       "\n",
       "    pres  tsun  \n",
       "0    NaN   NaN  \n",
       "1    NaN   NaN  \n",
       "2    NaN   NaN  \n",
       "3    NaN   NaN  \n",
       "4  995.8   NaN  "
      ]
     },
     "metadata": {},
     "output_type": "display_data"
    }
   ],
   "source": [
    "# Visualizar las primeras filas\n",
    "print(\"Dataset Operativo (SCADA):\")\n",
    "display(df_operativo.head())\n",
    "\n",
    "print(\"Dataset Meteorológico:\")\n",
    "display(df_meteorologico.head())"
   ]
  },
  {
   "cell_type": "markdown",
   "id": "62b21834-4ef2-4959-95b1-e015c5d292bb",
   "metadata": {},
   "source": [
    "Este paso permite verificar la estructura, columnas, y posibles errores de lectura. Es fundamental para entender qué tipo de transformaciones serán necesarias."
   ]
  },
  {
   "cell_type": "code",
   "execution_count": 20,
   "id": "197e49c6-868c-4db1-8cc5-7189608c9b9b",
   "metadata": {},
   "outputs": [
    {
     "name": "stdout",
     "output_type": "stream",
     "text": [
      "Información Dataset Operativo:\n",
      "<class 'pandas.core.frame.DataFrame'>\n",
      "RangeIndex: 50530 entries, 0 to 50529\n",
      "Data columns (total 5 columns):\n",
      " #   Column                         Non-Null Count  Dtype  \n",
      "---  ------                         --------------  -----  \n",
      " 0   Date/Time                      50530 non-null  object \n",
      " 1   LV ActivePower (kW)            50530 non-null  float64\n",
      " 2   Wind Speed (m/s)               50530 non-null  float64\n",
      " 3   Theoretical_Power_Curve (KWh)  50530 non-null  float64\n",
      " 4   Wind Direction (°)             50530 non-null  float64\n",
      "dtypes: float64(4), object(1)\n",
      "memory usage: 1.9+ MB\n"
     ]
    }
   ],
   "source": [
    "# Información de datasets\n",
    "print(\"Información Dataset Operativo:\")\n",
    "df_operativo.info()"
   ]
  },
  {
   "cell_type": "code",
   "execution_count": 22,
   "id": "6315928e-a9d9-4a44-af09-6f48ecf3214b",
   "metadata": {},
   "outputs": [
    {
     "name": "stdout",
     "output_type": "stream",
     "text": [
      "Información Dataset Meteorológico:\n",
      "<class 'pandas.core.frame.DataFrame'>\n",
      "RangeIndex: 352 entries, 0 to 351\n",
      "Data columns (total 11 columns):\n",
      " #   Column  Non-Null Count  Dtype  \n",
      "---  ------  --------------  -----  \n",
      " 0   date    352 non-null    object \n",
      " 1   tavg    352 non-null    float64\n",
      " 2   tmin    332 non-null    float64\n",
      " 3   tmax    326 non-null    float64\n",
      " 4   prcp    120 non-null    float64\n",
      " 5   snow    6 non-null      float64\n",
      " 6   wdir    319 non-null    float64\n",
      " 7   wspd    324 non-null    float64\n",
      " 8   wpgt    0 non-null      float64\n",
      " 9   pres    78 non-null     float64\n",
      " 10  tsun    0 non-null      float64\n",
      "dtypes: float64(10), object(1)\n",
      "memory usage: 30.4+ KB\n"
     ]
    }
   ],
   "source": [
    "print(\"Información Dataset Meteorológico:\")\n",
    "df_meteorologico.info()"
   ]
  },
  {
   "cell_type": "code",
   "execution_count": 24,
   "id": "8b407ba2-7032-41e2-9942-13b63ecc7092",
   "metadata": {},
   "outputs": [],
   "source": [
    "# Conversión de fechas\n",
    "df_operativo['Date/Time'] = pd.to_datetime(df_operativo['Date/Time'], dayfirst=True)\n",
    "df_meteorologico['date'] = pd.to_datetime(df_meteorologico['date'])"
   ]
  },
  {
   "cell_type": "markdown",
   "id": "59fd3529-115e-4039-97e8-bee15be6e847",
   "metadata": {},
   "source": [
    "Se convierten las columnas de fecha al tipo datetime para facilitar operaciones como el merge o filtrado temporal. Es esencial para alinear ambos datasets."
   ]
  },
  {
   "cell_type": "code",
   "execution_count": 27,
   "id": "d0f45439-c78c-425b-931e-c98223f49f05",
   "metadata": {},
   "outputs": [
    {
     "name": "stdout",
     "output_type": "stream",
     "text": [
      "Duplicados en Operativo: 0\n",
      "Duplicados en Meteorológico: 0\n"
     ]
    }
   ],
   "source": [
    "# Chequeo de duplicados, si existen se eliminan \n",
    "print(f\"Duplicados en Operativo: {df_operativo.duplicated().sum()}\")\n",
    "print(f\"Duplicados en Meteorológico: {df_meteorologico.duplicated().sum()}\")\n"
   ]
  },
  {
   "cell_type": "markdown",
   "id": "08cb7573-125c-46c2-bf32-f399fb16777b",
   "metadata": {},
   "source": [
    "Eliminamos registros repetidos que podrían sesgar el análisis o el entrenamiento del modelo. Esto asegura consistencia y limpieza en los datos."
   ]
  },
  {
   "cell_type": "code",
   "execution_count": 30,
   "id": "5a81e363-618e-4c95-9d89-1fede8797572",
   "metadata": {},
   "outputs": [],
   "source": [
    "# LIMPIEZA inteligente de valores nulos\n",
    "# Eliminar columnas con más del 40% de valores nulos\n",
    "threshold = 0.4\n",
    "df_operativo = df_operativo.dropna(axis=1, thresh=int((1-threshold) * len(df_operativo)))\n",
    "df_meteorologico = df_meteorologico.dropna(axis=1, thresh=int((1-threshold) * len(df_meteorologico)))"
   ]
  },
  {
   "cell_type": "code",
   "execution_count": 32,
   "id": "ee181564-e80f-4164-ae42-34807146d7bc",
   "metadata": {},
   "outputs": [],
   "source": [
    "# Eliminar filas con nulos remanentes\n",
    "df_operativo = df_operativo.dropna()\n",
    "df_meteorologico = df_meteorologico.dropna()"
   ]
  },
  {
   "cell_type": "markdown",
   "id": "0a937f73-20db-4e51-9eed-a23f0c401cd4",
   "metadata": {},
   "source": [
    "Primero se eliminan las filas con demasiados valores nulos y luego las restantes con faltantes aislados. Esto mejora la calidad de datos para evitar errores en el modelado."
   ]
  },
  {
   "cell_type": "code",
   "execution_count": 35,
   "id": "481e64a2-5771-4a74-960f-f5afc3b00d5e",
   "metadata": {},
   "outputs": [],
   "source": [
    "# Merge de datasets por fecha\n",
    "df_operativo_daily = df_operativo.resample('D', on='Date/Time').mean().reset_index()"
   ]
  },
  {
   "cell_type": "code",
   "execution_count": 37,
   "id": "15442faa-a0ac-4e59-a37f-5bc4ce0da100",
   "metadata": {},
   "outputs": [],
   "source": [
    "df_merged = pd.merge(df_operativo_daily, df_meteorologico, left_on='Date/Time', right_on='date')"
   ]
  },
  {
   "cell_type": "code",
   "execution_count": 39,
   "id": "75a6ab38-1268-4d66-b94e-863a7475c118",
   "metadata": {},
   "outputs": [
    {
     "name": "stdout",
     "output_type": "stream",
     "text": [
      "Dataset Unificado:\n"
     ]
    },
    {
     "data": {
      "text/html": [
       "<div>\n",
       "<style scoped>\n",
       "    .dataframe tbody tr th:only-of-type {\n",
       "        vertical-align: middle;\n",
       "    }\n",
       "\n",
       "    .dataframe tbody tr th {\n",
       "        vertical-align: top;\n",
       "    }\n",
       "\n",
       "    .dataframe thead th {\n",
       "        text-align: right;\n",
       "    }\n",
       "</style>\n",
       "<table border=\"1\" class=\"dataframe\">\n",
       "  <thead>\n",
       "    <tr style=\"text-align: right;\">\n",
       "      <th></th>\n",
       "      <th>Date/Time</th>\n",
       "      <th>LV ActivePower (kW)</th>\n",
       "      <th>Wind Speed (m/s)</th>\n",
       "      <th>Theoretical_Power_Curve (KWh)</th>\n",
       "      <th>Wind Direction (°)</th>\n",
       "      <th>date</th>\n",
       "      <th>tavg</th>\n",
       "      <th>tmin</th>\n",
       "      <th>tmax</th>\n",
       "      <th>wdir</th>\n",
       "      <th>wspd</th>\n",
       "    </tr>\n",
       "  </thead>\n",
       "  <tbody>\n",
       "    <tr>\n",
       "      <th>0</th>\n",
       "      <td>2018-01-01</td>\n",
       "      <td>1535.204483</td>\n",
       "      <td>8.022975</td>\n",
       "      <td>1622.990048</td>\n",
       "      <td>229.735242</td>\n",
       "      <td>2018-01-01</td>\n",
       "      <td>9.1</td>\n",
       "      <td>3.0</td>\n",
       "      <td>15.0</td>\n",
       "      <td>214.0</td>\n",
       "      <td>20.8</td>\n",
       "    </tr>\n",
       "    <tr>\n",
       "      <th>1</th>\n",
       "      <td>2018-01-02</td>\n",
       "      <td>3182.564250</td>\n",
       "      <td>12.000548</td>\n",
       "      <td>3314.693471</td>\n",
       "      <td>197.859789</td>\n",
       "      <td>2018-01-02</td>\n",
       "      <td>7.3</td>\n",
       "      <td>5.0</td>\n",
       "      <td>10.0</td>\n",
       "      <td>146.0</td>\n",
       "      <td>15.2</td>\n",
       "    </tr>\n",
       "    <tr>\n",
       "      <th>2</th>\n",
       "      <td>2018-01-03</td>\n",
       "      <td>1017.793340</td>\n",
       "      <td>6.650189</td>\n",
       "      <td>1072.956361</td>\n",
       "      <td>192.476045</td>\n",
       "      <td>2018-01-03</td>\n",
       "      <td>6.4</td>\n",
       "      <td>4.0</td>\n",
       "      <td>7.0</td>\n",
       "      <td>31.0</td>\n",
       "      <td>25.8</td>\n",
       "    </tr>\n",
       "    <tr>\n",
       "      <th>3</th>\n",
       "      <td>2018-01-04</td>\n",
       "      <td>834.486869</td>\n",
       "      <td>6.232531</td>\n",
       "      <td>838.463088</td>\n",
       "      <td>121.299142</td>\n",
       "      <td>2018-01-04</td>\n",
       "      <td>8.7</td>\n",
       "      <td>6.0</td>\n",
       "      <td>12.0</td>\n",
       "      <td>351.0</td>\n",
       "      <td>19.5</td>\n",
       "    </tr>\n",
       "    <tr>\n",
       "      <th>4</th>\n",
       "      <td>2018-01-05</td>\n",
       "      <td>123.717345</td>\n",
       "      <td>3.121434</td>\n",
       "      <td>130.342291</td>\n",
       "      <td>154.906666</td>\n",
       "      <td>2018-01-05</td>\n",
       "      <td>9.1</td>\n",
       "      <td>6.0</td>\n",
       "      <td>12.0</td>\n",
       "      <td>232.0</td>\n",
       "      <td>13.7</td>\n",
       "    </tr>\n",
       "  </tbody>\n",
       "</table>\n",
       "</div>"
      ],
      "text/plain": [
       "   Date/Time  LV ActivePower (kW)  Wind Speed (m/s)  \\\n",
       "0 2018-01-01          1535.204483          8.022975   \n",
       "1 2018-01-02          3182.564250         12.000548   \n",
       "2 2018-01-03          1017.793340          6.650189   \n",
       "3 2018-01-04           834.486869          6.232531   \n",
       "4 2018-01-05           123.717345          3.121434   \n",
       "\n",
       "   Theoretical_Power_Curve (KWh)  Wind Direction (°)       date  tavg  tmin  \\\n",
       "0                    1622.990048          229.735242 2018-01-01   9.1   3.0   \n",
       "1                    3314.693471          197.859789 2018-01-02   7.3   5.0   \n",
       "2                    1072.956361          192.476045 2018-01-03   6.4   4.0   \n",
       "3                     838.463088          121.299142 2018-01-04   8.7   6.0   \n",
       "4                     130.342291          154.906666 2018-01-05   9.1   6.0   \n",
       "\n",
       "   tmax   wdir  wspd  \n",
       "0  15.0  214.0  20.8  \n",
       "1  10.0  146.0  15.2  \n",
       "2   7.0   31.0  25.8  \n",
       "3  12.0  351.0  19.5  \n",
       "4  12.0  232.0  13.7  "
      ]
     },
     "metadata": {},
     "output_type": "display_data"
    }
   ],
   "source": [
    "# Verificar el dataset unificado\n",
    "print(\"Dataset Unificado:\")\n",
    "display(df_merged.head())"
   ]
  },
  {
   "cell_type": "markdown",
   "id": "8cb585eb-217e-42ae-a3e6-a94493010648",
   "metadata": {},
   "source": [
    "Se combinan los datasets operativos y climáticos en un solo DataFrame a través de la columna fecha_dia, lo cual permite cruzar información técnica y meteorológica para cada día."
   ]
  },
  {
   "cell_type": "markdown",
   "id": "a75a4cdf-b9bb-4c6f-888c-0e889600c7a3",
   "metadata": {},
   "source": [
    "FASE DE ANALISIS EXPLORATORIO"
   ]
  },
  {
   "cell_type": "code",
   "execution_count": 43,
   "id": "1cb925bc-8fa2-42a1-b883-afd347d21e16",
   "metadata": {},
   "outputs": [],
   "source": [
    "# 1. Importar librerías\n",
    "import pandas as pd\n",
    "import numpy as np\n",
    "import matplotlib.pyplot as plt\n",
    "import seaborn as sns\n"
   ]
  },
  {
   "cell_type": "code",
   "execution_count": 44,
   "id": "713c9b78-a675-4d0c-a63d-1ff94f748a3f",
   "metadata": {},
   "outputs": [],
   "source": [
    "# Configuración de estilo\n",
    "sns.set(style='whitegrid')\n",
    "pd.set_option('display.max_columns', None)\n"
   ]
  },
  {
   "cell_type": "code",
   "execution_count": 45,
   "id": "49e5b64b-a824-4ac5-bf56-75efc3a52e4b",
   "metadata": {},
   "outputs": [],
   "source": [
    "# 2. Cargar el dataset procesado\n",
    "path_merged = '../data/processed/merged_dataset.csv'\n",
    "df = pd.read_csv(path_merged)"
   ]
  },
  {
   "cell_type": "code",
   "execution_count": 46,
   "id": "57c7aa58-4bc2-4b60-84ec-ab2ff236e41f",
   "metadata": {},
   "outputs": [
    {
     "name": "stdout",
     "output_type": "stream",
     "text": [
      "Información del Dataset:\n",
      "<class 'pandas.core.frame.DataFrame'>\n",
      "RangeIndex: 319 entries, 0 to 318\n",
      "Data columns (total 11 columns):\n",
      " #   Column                         Non-Null Count  Dtype  \n",
      "---  ------                         --------------  -----  \n",
      " 0   Date/Time                      319 non-null    object \n",
      " 1   LV ActivePower (kW)            310 non-null    float64\n",
      " 2   Wind Speed (m/s)               310 non-null    float64\n",
      " 3   Theoretical_Power_Curve (KWh)  310 non-null    float64\n",
      " 4   Wind Direction (°)             310 non-null    float64\n",
      " 5   date                           319 non-null    object \n",
      " 6   tavg                           319 non-null    float64\n",
      " 7   tmin                           319 non-null    float64\n",
      " 8   tmax                           319 non-null    float64\n",
      " 9   wdir                           319 non-null    float64\n",
      " 10  wspd                           319 non-null    float64\n",
      "dtypes: float64(9), object(2)\n",
      "memory usage: 27.5+ KB\n"
     ]
    }
   ],
   "source": [
    "# 3. Información básica del dataset\n",
    "print(\"Información del Dataset:\")\n",
    "df.info()"
   ]
  },
  {
   "cell_type": "code",
   "execution_count": 47,
   "id": "c59df4b7-2a07-413a-aa5a-25c9c45eea42",
   "metadata": {},
   "outputs": [
    {
     "name": "stdout",
     "output_type": "stream",
     "text": [
      "\n",
      "Descripción Estadística:\n"
     ]
    },
    {
     "data": {
      "text/html": [
       "<div>\n",
       "<style scoped>\n",
       "    .dataframe tbody tr th:only-of-type {\n",
       "        vertical-align: middle;\n",
       "    }\n",
       "\n",
       "    .dataframe tbody tr th {\n",
       "        vertical-align: top;\n",
       "    }\n",
       "\n",
       "    .dataframe thead th {\n",
       "        text-align: right;\n",
       "    }\n",
       "</style>\n",
       "<table border=\"1\" class=\"dataframe\">\n",
       "  <thead>\n",
       "    <tr style=\"text-align: right;\">\n",
       "      <th></th>\n",
       "      <th>LV ActivePower (kW)</th>\n",
       "      <th>Wind Speed (m/s)</th>\n",
       "      <th>Theoretical_Power_Curve (KWh)</th>\n",
       "      <th>Wind Direction (°)</th>\n",
       "      <th>tavg</th>\n",
       "      <th>tmin</th>\n",
       "      <th>tmax</th>\n",
       "      <th>wdir</th>\n",
       "      <th>wspd</th>\n",
       "    </tr>\n",
       "  </thead>\n",
       "  <tbody>\n",
       "    <tr>\n",
       "      <th>count</th>\n",
       "      <td>310.000000</td>\n",
       "      <td>310.000000</td>\n",
       "      <td>310.000000</td>\n",
       "      <td>310.000000</td>\n",
       "      <td>319.000000</td>\n",
       "      <td>319.000000</td>\n",
       "      <td>319.000000</td>\n",
       "      <td>319.000000</td>\n",
       "      <td>319.000000</td>\n",
       "    </tr>\n",
       "    <tr>\n",
       "      <th>mean</th>\n",
       "      <td>1317.287886</td>\n",
       "      <td>7.585510</td>\n",
       "      <td>1507.519273</td>\n",
       "      <td>120.640516</td>\n",
       "      <td>5.550157</td>\n",
       "      <td>0.945455</td>\n",
       "      <td>10.809718</td>\n",
       "      <td>263.294671</td>\n",
       "      <td>24.587147</td>\n",
       "    </tr>\n",
       "    <tr>\n",
       "      <th>std</th>\n",
       "      <td>1054.933949</td>\n",
       "      <td>3.468848</td>\n",
       "      <td>1099.171409</td>\n",
       "      <td>72.446416</td>\n",
       "      <td>4.859820</td>\n",
       "      <td>4.856226</td>\n",
       "      <td>5.293903</td>\n",
       "      <td>67.345544</td>\n",
       "      <td>10.145746</td>\n",
       "    </tr>\n",
       "    <tr>\n",
       "      <th>min</th>\n",
       "      <td>0.000000</td>\n",
       "      <td>1.718272</td>\n",
       "      <td>0.996494</td>\n",
       "      <td>20.237690</td>\n",
       "      <td>-7.800000</td>\n",
       "      <td>-12.500000</td>\n",
       "      <td>-1.000000</td>\n",
       "      <td>0.000000</td>\n",
       "      <td>6.600000</td>\n",
       "    </tr>\n",
       "    <tr>\n",
       "      <th>25%</th>\n",
       "      <td>376.856659</td>\n",
       "      <td>4.982793</td>\n",
       "      <td>505.519086</td>\n",
       "      <td>55.995968</td>\n",
       "      <td>2.250000</td>\n",
       "      <td>-2.250000</td>\n",
       "      <td>7.000000</td>\n",
       "      <td>249.500000</td>\n",
       "      <td>15.500000</td>\n",
       "    </tr>\n",
       "    <tr>\n",
       "      <th>50%</th>\n",
       "      <td>1120.882746</td>\n",
       "      <td>7.272117</td>\n",
       "      <td>1367.158957</td>\n",
       "      <td>97.398282</td>\n",
       "      <td>5.200000</td>\n",
       "      <td>1.000000</td>\n",
       "      <td>10.700000</td>\n",
       "      <td>280.000000</td>\n",
       "      <td>24.200000</td>\n",
       "    </tr>\n",
       "    <tr>\n",
       "      <th>75%</th>\n",
       "      <td>2039.523871</td>\n",
       "      <td>9.721220</td>\n",
       "      <td>2327.303169</td>\n",
       "      <td>194.434329</td>\n",
       "      <td>9.150000</td>\n",
       "      <td>4.550000</td>\n",
       "      <td>15.000000</td>\n",
       "      <td>302.000000</td>\n",
       "      <td>32.450000</td>\n",
       "    </tr>\n",
       "    <tr>\n",
       "      <th>max</th>\n",
       "      <td>3602.284059</td>\n",
       "      <td>19.296762</td>\n",
       "      <td>3600.000000</td>\n",
       "      <td>294.238755</td>\n",
       "      <td>17.300000</td>\n",
       "      <td>13.000000</td>\n",
       "      <td>25.000000</td>\n",
       "      <td>357.000000</td>\n",
       "      <td>52.500000</td>\n",
       "    </tr>\n",
       "  </tbody>\n",
       "</table>\n",
       "</div>"
      ],
      "text/plain": [
       "       LV ActivePower (kW)  Wind Speed (m/s)  Theoretical_Power_Curve (KWh)  \\\n",
       "count           310.000000        310.000000                     310.000000   \n",
       "mean           1317.287886          7.585510                    1507.519273   \n",
       "std            1054.933949          3.468848                    1099.171409   \n",
       "min               0.000000          1.718272                       0.996494   \n",
       "25%             376.856659          4.982793                     505.519086   \n",
       "50%            1120.882746          7.272117                    1367.158957   \n",
       "75%            2039.523871          9.721220                    2327.303169   \n",
       "max            3602.284059         19.296762                    3600.000000   \n",
       "\n",
       "       Wind Direction (°)        tavg        tmin        tmax        wdir  \\\n",
       "count          310.000000  319.000000  319.000000  319.000000  319.000000   \n",
       "mean           120.640516    5.550157    0.945455   10.809718  263.294671   \n",
       "std             72.446416    4.859820    4.856226    5.293903   67.345544   \n",
       "min             20.237690   -7.800000  -12.500000   -1.000000    0.000000   \n",
       "25%             55.995968    2.250000   -2.250000    7.000000  249.500000   \n",
       "50%             97.398282    5.200000    1.000000   10.700000  280.000000   \n",
       "75%            194.434329    9.150000    4.550000   15.000000  302.000000   \n",
       "max            294.238755   17.300000   13.000000   25.000000  357.000000   \n",
       "\n",
       "             wspd  \n",
       "count  319.000000  \n",
       "mean    24.587147  \n",
       "std     10.145746  \n",
       "min      6.600000  \n",
       "25%     15.500000  \n",
       "50%     24.200000  \n",
       "75%     32.450000  \n",
       "max     52.500000  "
      ]
     },
     "metadata": {},
     "output_type": "display_data"
    }
   ],
   "source": [
    "print(\"\\nDescripción Estadística:\")\n",
    "display(df.describe())"
   ]
  },
  {
   "cell_type": "code",
   "execution_count": 48,
   "id": "b8c810df-9d75-40cc-b5d0-dedf6fc4c66e",
   "metadata": {},
   "outputs": [
    {
     "name": "stdout",
     "output_type": "stream",
     "text": [
      "\n",
      "Distribución de variables numéricas:\n"
     ]
    },
    {
     "data": {
      "image/png": "[encoded data removed]",
      "text/plain": [
       "<Figure size 1500x1200 with 9 Axes>"
      ]
     },
     "metadata": {},
     "output_type": "display_data"
    }
   ],
   "source": [
    "# 4. Distribución de variables numéricas\n",
    "print(\"\\nDistribución de variables numéricas:\")\n",
    "df.hist(figsize=(15, 12), bins=30, edgecolor='black')\n",
    "plt.tight_layout()\n",
    "plt.show()"
   ]
  },
  {
   "cell_type": "code",
   "execution_count": 51,
   "id": "05259990-3d04-41b5-9e4b-190f7dfd6095",
   "metadata": {},
   "outputs": [
    {
     "name": "stdout",
     "output_type": "stream",
     "text": [
      "\n",
      "Boxplots para las principales variables:\n"
     ]
    },
    {
     "data": {
      "image/png": "[encoded data removed]",
      "text/plain": [
       "<Figure size 1500x800 with 4 Axes>"
      ]
     },
     "metadata": {},
     "output_type": "display_data"
    }
   ],
   "source": [
    "# 5. Boxplots para detección de outliers\n",
    "print(\"\\nBoxplots para las principales variables:\")\n",
    "variables_principales = ['LV ActivePower (kW)', 'Wind Speed (m/s)', 'tavg', 'wspd']\n",
    "plt.figure(figsize=(15, 8))\n",
    "for i, var in enumerate(variables_principales, 1):\n",
    "    plt.subplot(2, 3, i)\n",
    "    sns.boxplot(y=df[var])\n",
    "    plt.title(f'Boxplot de {var}')\n",
    "plt.tight_layout()\n",
    "plt.show()"
   ]
  },
  {
   "cell_type": "markdown",
   "id": "fff4971c-6e7b-431d-bd71-63d1009243ab",
   "metadata": {},
   "source": [
    "FASE DE CARACTERISTICAS"
   ]
  },
  {
   "cell_type": "code",
   "execution_count": 56,
   "id": "1b7fa9a6-5b75-49ef-8eb7-75d2cac30b4a",
   "metadata": {},
   "outputs": [],
   "source": [
    "# Importar librerías\n",
    "import pandas as pd\n",
    "import numpy as np\n"
   ]
  },
  {
   "cell_type": "code",
   "execution_count": 57,
   "id": "def1284b-a2ed-4165-99fc-bdf96264f18e",
   "metadata": {},
   "outputs": [],
   "source": [
    "# Cargar el dataset procesado\n",
    "path_merged = '../data/processed/merged_dataset.csv'\n",
    "df = pd.read_csv(path_merged)"
   ]
  },
  {
   "cell_type": "code",
   "execution_count": 58,
   "id": "339fae5e-0c29-4301-8c5a-2c6b969e1b12",
   "metadata": {},
   "outputs": [],
   "source": [
    "# Crear un índice de riesgo compuesto - Fórmula: combinación ponderada de variables climáticas\n",
    "\n",
    "# Definir riesgo_score\n",
    "# 0.6 * Velocidad del viento + 0.2 * Ráfagas de viento - 0.1 * Temperatura mínima\n",
    "# Ajuste: normalizamos wspd de km/h a m/s dividiendo por 3.6 si queremos que las unidades sean coherentes \n",
    "\n",
    "df['wspd_m_s'] = df['wspd'] / 3.6  # opcional si querés unificar unidades"
   ]
  },
  {
   "cell_type": "code",
   "execution_count": 59,
   "id": "c901e814-34d6-462d-bdef-118e6592d5c9",
   "metadata": {},
   "outputs": [],
   "source": [
    "# Crear el riesgo_score\n",
    "df['riesgo_score'] = (\n",
    "    0.6 * df['Wind Speed (m/s)'] +\n",
    "    0.2 * df['wspd_m_s'] - \n",
    "    0.1 * df['tmin']\n",
    ")"
   ]
  },
  {
   "cell_type": "code",
   "execution_count": 60,
   "id": "47b68820-2a03-4dd5-a7d6-bd0491493157",
   "metadata": {},
   "outputs": [],
   "source": [
    "# Crear la variable objetivo basada en riesgo_score\n",
    "# Definimos los umbrales\n",
    "\n",
    "def categorizar_riesgo_compuesto(score):\n",
    "    if score < 10:\n",
    "        return 'Bajo'\n",
    "    elif 10 <= score < 20:\n",
    "        return 'Medio'\n",
    "    else:\n",
    "        return 'Alto'\n",
    "\n",
    "df['riesgo_operativo'] = df['riesgo_score'].apply(categorizar_riesgo_compuesto)"
   ]
  },
  {
   "cell_type": "markdown",
   "id": "3241957a-e789-402c-ada5-5f83b838eed2",
   "metadata": {},
   "source": [
    "Se crea una nueva variable riesgo_operativo para clasificar el riesgo en 3 niveles a partir de un índice ponderado. Esta variable es el target para el modelo de clasificación."
   ]
  },
  {
   "cell_type": "code",
   "execution_count": 62,
   "id": "4cac6557-d4e5-4d08-88a9-a6febfce141d",
   "metadata": {},
   "outputs": [
    {
     "name": "stdout",
     "output_type": "stream",
     "text": [
      "Distribución de clases en 'riesgo_operativo':\n",
      "riesgo_operativo\n",
      "Bajo     297\n",
      "Medio     13\n",
      "Alto       9\n",
      "Name: count, dtype: int64\n"
     ]
    }
   ],
   "source": [
    "# 5. Confirmar la distribución de clases\n",
    "\n",
    "print(\"Distribución de clases en 'riesgo_operativo':\")\n",
    "print(df['riesgo_operativo'].value_counts())"
   ]
  },
  {
   "cell_type": "code",
   "execution_count": 64,
   "id": "9ecef482-e17e-4890-83e5-d449a5967fe0",
   "metadata": {},
   "outputs": [],
   "source": [
    "# Crear variables adicionales - Binarizar si el viento es del oeste (270° +/- 45°)\n",
    "\n",
    "def direccion_oeste(direccion):\n",
    "    if (direccion >= 225) and (direccion <= 315):\n",
    "        return 1\n",
    "    else:\n",
    "        return 0\n",
    "\n",
    "df['viento_oeste'] = df['Wind Direction (°)'].apply(direccion_oeste)"
   ]
  },
  {
   "cell_type": "markdown",
   "id": "314de451-5d5a-418d-a65f-cf9a792df4e5",
   "metadata": {},
   "source": [
    "FASE DE MODELO ENTRENADO Y EVALUACION"
   ]
  },
  {
   "cell_type": "code",
   "execution_count": 67,
   "id": "615fd7dc-ce45-4cbd-aa5b-c87f99be885f",
   "metadata": {},
   "outputs": [],
   "source": [
    "# Importar librerías\n",
    "import pandas as pd\n",
    "import numpy as np\n",
    "\n",
    "from sklearn.model_selection import train_test_split\n",
    "from sklearn.preprocessing import StandardScaler\n",
    "from sklearn.metrics import classification_report, confusion_matrix\n",
    "from imblearn.over_sampling import SMOTE"
   ]
  },
  {
   "cell_type": "code",
   "execution_count": 75,
   "id": "4ecc5aee-af07-4c35-9f42-3ed6177a027e",
   "metadata": {},
   "outputs": [],
   "source": [
    "# Modelos\n",
    "from sklearn.tree import DecisionTreeClassifier\n",
    "from sklearn.ensemble import RandomForestClassifier\n",
    "from sklearn.svm import SVC\n",
    "from sklearn.neighbors import KNeighborsClassifier"
   ]
  },
  {
   "cell_type": "code",
   "execution_count": 76,
   "id": "274e7175-b546-4da0-b49e-bf80026b2133",
   "metadata": {},
   "outputs": [],
   "source": [
    "# Métricas\n",
    "from sklearn.metrics import classification_report, confusion_matrix, accuracy_score, precision_score, recall_score, f1_score\n",
    "import matplotlib.pyplot as plt\n",
    "import seaborn as sns"
   ]
  },
  {
   "cell_type": "code",
   "execution_count": 78,
   "id": "1224da93-0cb1-43db-bfb6-27600c7c29e2",
   "metadata": {},
   "outputs": [
    {
     "name": "stdout",
     "output_type": "stream",
     "text": [
      "Primeras filas del dataset:\n"
     ]
    },
    {
     "data": {
      "text/html": [
       "<div>\n",
       "<style scoped>\n",
       "    .dataframe tbody tr th:only-of-type {\n",
       "        vertical-align: middle;\n",
       "    }\n",
       "\n",
       "    .dataframe tbody tr th {\n",
       "        vertical-align: top;\n",
       "    }\n",
       "\n",
       "    .dataframe thead th {\n",
       "        text-align: right;\n",
       "    }\n",
       "</style>\n",
       "<table border=\"1\" class=\"dataframe\">\n",
       "  <thead>\n",
       "    <tr style=\"text-align: right;\">\n",
       "      <th></th>\n",
       "      <th>Date/Time</th>\n",
       "      <th>LV ActivePower (kW)</th>\n",
       "      <th>Wind Speed (m/s)</th>\n",
       "      <th>Theoretical_Power_Curve (KWh)</th>\n",
       "      <th>Wind Direction (°)</th>\n",
       "      <th>date</th>\n",
       "      <th>tavg</th>\n",
       "      <th>tmin</th>\n",
       "      <th>tmax</th>\n",
       "      <th>wdir</th>\n",
       "      <th>wspd</th>\n",
       "      <th>wspd_m_s</th>\n",
       "      <th>riesgo_score</th>\n",
       "      <th>riesgo_operativo</th>\n",
       "      <th>viento_oeste</th>\n",
       "    </tr>\n",
       "  </thead>\n",
       "  <tbody>\n",
       "    <tr>\n",
       "      <th>0</th>\n",
       "      <td>2018-01-01</td>\n",
       "      <td>1535.204483</td>\n",
       "      <td>8.022975</td>\n",
       "      <td>1622.990048</td>\n",
       "      <td>229.735242</td>\n",
       "      <td>2018-01-01</td>\n",
       "      <td>9.1</td>\n",
       "      <td>3.0</td>\n",
       "      <td>15.0</td>\n",
       "      <td>214.0</td>\n",
       "      <td>20.8</td>\n",
       "      <td>5.777778</td>\n",
       "      <td>5.669340</td>\n",
       "      <td>Bajo</td>\n",
       "      <td>1</td>\n",
       "    </tr>\n",
       "    <tr>\n",
       "      <th>1</th>\n",
       "      <td>2018-01-02</td>\n",
       "      <td>3182.564250</td>\n",
       "      <td>12.000548</td>\n",
       "      <td>3314.693471</td>\n",
       "      <td>197.859789</td>\n",
       "      <td>2018-01-02</td>\n",
       "      <td>7.3</td>\n",
       "      <td>5.0</td>\n",
       "      <td>10.0</td>\n",
       "      <td>146.0</td>\n",
       "      <td>15.2</td>\n",
       "      <td>4.222222</td>\n",
       "      <td>7.544773</td>\n",
       "      <td>Bajo</td>\n",
       "      <td>0</td>\n",
       "    </tr>\n",
       "    <tr>\n",
       "      <th>2</th>\n",
       "      <td>2018-01-03</td>\n",
       "      <td>1017.793340</td>\n",
       "      <td>6.650189</td>\n",
       "      <td>1072.956361</td>\n",
       "      <td>192.476045</td>\n",
       "      <td>2018-01-03</td>\n",
       "      <td>6.4</td>\n",
       "      <td>4.0</td>\n",
       "      <td>7.0</td>\n",
       "      <td>31.0</td>\n",
       "      <td>25.8</td>\n",
       "      <td>7.166667</td>\n",
       "      <td>5.023447</td>\n",
       "      <td>Bajo</td>\n",
       "      <td>0</td>\n",
       "    </tr>\n",
       "    <tr>\n",
       "      <th>3</th>\n",
       "      <td>2018-01-04</td>\n",
       "      <td>834.486869</td>\n",
       "      <td>6.232531</td>\n",
       "      <td>838.463088</td>\n",
       "      <td>121.299142</td>\n",
       "      <td>2018-01-04</td>\n",
       "      <td>8.7</td>\n",
       "      <td>6.0</td>\n",
       "      <td>12.0</td>\n",
       "      <td>351.0</td>\n",
       "      <td>19.5</td>\n",
       "      <td>5.416667</td>\n",
       "      <td>4.222852</td>\n",
       "      <td>Bajo</td>\n",
       "      <td>0</td>\n",
       "    </tr>\n",
       "    <tr>\n",
       "      <th>4</th>\n",
       "      <td>2018-01-05</td>\n",
       "      <td>123.717345</td>\n",
       "      <td>3.121434</td>\n",
       "      <td>130.342291</td>\n",
       "      <td>154.906666</td>\n",
       "      <td>2018-01-05</td>\n",
       "      <td>9.1</td>\n",
       "      <td>6.0</td>\n",
       "      <td>12.0</td>\n",
       "      <td>232.0</td>\n",
       "      <td>13.7</td>\n",
       "      <td>3.805556</td>\n",
       "      <td>2.033971</td>\n",
       "      <td>Bajo</td>\n",
       "      <td>0</td>\n",
       "    </tr>\n",
       "  </tbody>\n",
       "</table>\n",
       "</div>"
      ],
      "text/plain": [
       "    Date/Time  LV ActivePower (kW)  Wind Speed (m/s)  \\\n",
       "0  2018-01-01          1535.204483          8.022975   \n",
       "1  2018-01-02          3182.564250         12.000548   \n",
       "2  2018-01-03          1017.793340          6.650189   \n",
       "3  2018-01-04           834.486869          6.232531   \n",
       "4  2018-01-05           123.717345          3.121434   \n",
       "\n",
       "   Theoretical_Power_Curve (KWh)  Wind Direction (°)        date  tavg  tmin  \\\n",
       "0                    1622.990048          229.735242  2018-01-01   9.1   3.0   \n",
       "1                    3314.693471          197.859789  2018-01-02   7.3   5.0   \n",
       "2                    1072.956361          192.476045  2018-01-03   6.4   4.0   \n",
       "3                     838.463088          121.299142  2018-01-04   8.7   6.0   \n",
       "4                     130.342291          154.906666  2018-01-05   9.1   6.0   \n",
       "\n",
       "   tmax   wdir  wspd  wspd_m_s  riesgo_score riesgo_operativo  viento_oeste  \n",
       "0  15.0  214.0  20.8  5.777778      5.669340             Bajo             1  \n",
       "1  10.0  146.0  15.2  4.222222      7.544773             Bajo             0  \n",
       "2   7.0   31.0  25.8  7.166667      5.023447             Bajo             0  \n",
       "3  12.0  351.0  19.5  5.416667      4.222852             Bajo             0  \n",
       "4  12.0  232.0  13.7  3.805556      2.033971             Bajo             0  "
      ]
     },
     "metadata": {},
     "output_type": "display_data"
    }
   ],
   "source": [
    "# Cargar el dataset procesado\n",
    "df = pd.read_csv('../data/processed/final_dataset.csv')\n",
    "\n",
    "print(\"Primeras filas del dataset:\")\n",
    "display(df.head())"
   ]
  },
  {
   "cell_type": "code",
   "execution_count": 79,
   "id": "941c3b3c-4776-4f76-809e-4c1df8ac4189",
   "metadata": {},
   "outputs": [],
   "source": [
    "# 3. Preparar X (features) e y (target)\n",
    "# Definir variables predictoras y Objetivo\n",
    "\n",
    "X = df.drop(columns=['Date/Time', 'date', 'riesgo_operativo'])\n",
    "X = X.select_dtypes(include=[np.number])  # Mantener solo variables numéricas\n",
    "y = df['riesgo_operativo'] #Variable objetivo\n"
   ]
  },
  {
   "cell_type": "markdown",
   "id": "c50c3c66-5ed4-4cc1-b7b7-99635d74c869",
   "metadata": {},
   "source": [
    "Seleccionamos variables relevantes como características (X) y definimos la variable a predecir (y). Estas son las entradas y salidas que usará el modelo"
   ]
  },
  {
   "cell_type": "code",
   "execution_count": 85,
   "id": "620fda95-4991-45dc-b299-1c03336542c0",
   "metadata": {},
   "outputs": [],
   "source": [
    "# División 80% train, 20% test\n",
    "X_train, X_test, y_train, y_test = train_test_split(\n",
    "    X, y, test_size=0.2, stratify=y, random_state=42\n",
    ")"
   ]
  },
  {
   "cell_type": "code",
   "execution_count": 87,
   "id": "a0b11beb-17d8-416d-bbf5-d1ac128f7046",
   "metadata": {},
   "outputs": [],
   "source": [
    "# 5. Imputar Valores Faltantes\n",
    "X_train = X_train.fillna(X_train.mean())\n",
    "X_test = X_test.fillna(X_test.mean())"
   ]
  },
  {
   "cell_type": "code",
   "execution_count": 89,
   "id": "db746d00-0ac0-4922-b415-d55cff88874a",
   "metadata": {},
   "outputs": [],
   "source": [
    "# 5. Aplicar SMOTE solo en el train\n",
    "smote = SMOTE(random_state=42)\n",
    "X_train_bal, y_train_bal = smote.fit_resample(X_train, y_train)\n"
   ]
  },
  {
   "cell_type": "markdown",
   "id": "baee3e14-9a9b-4efa-b44f-c2642753b4e1",
   "metadata": {},
   "source": [
    "Si una clase tiene menos como \"alto riesgo\", el modelo podría no aprender bien. SMOTE genera ejemplos sintéticos para balancear el dataset."
   ]
  },
  {
   "cell_type": "code",
   "execution_count": 91,
   "id": "2dca4571-2a1b-49e8-84ac-ec1a07a84899",
   "metadata": {},
   "outputs": [],
   "source": [
    "# 7. Estandarizar Datos (Para SVM y K-NN)\n",
    "scaler = StandardScaler()\n",
    "X_train_bal_scaled = scaler.fit_transform(X_train_bal)\n",
    "X_test_scaled = scaler.transform(X_test)"
   ]
  },
  {
   "cell_type": "code",
   "execution_count": 94,
   "id": "90377ea6-720a-48bb-abf5-bd3b2750488c",
   "metadata": {},
   "outputs": [
    {
     "name": "stdout",
     "output_type": "stream",
     "text": [
      "\n",
      "Entrenando modelo: Decision Tree\n",
      "[[ 0  2  0]\n",
      " [ 0 59  0]\n",
      " [ 0  1  2]]\n",
      "              precision    recall  f1-score   support\n",
      "\n",
      "        Alto       0.00      0.00      0.00         2\n",
      "        Bajo       0.95      1.00      0.98        59\n",
      "       Medio       1.00      0.67      0.80         3\n",
      "\n",
      "    accuracy                           0.95        64\n",
      "   macro avg       0.65      0.56      0.59        64\n",
      "weighted avg       0.92      0.95      0.94        64\n",
      "\n",
      "\n",
      "Entrenando modelo: Random Forest\n"
     ]
    },
    {
     "name": "stderr",
     "output_type": "stream",
     "text": [
      "C:\\Users\\sabri\\anaconda3\\Lib\\site-packages\\sklearn\\metrics\\_classification.py:1531: UndefinedMetricWarning: Precision is ill-defined and being set to 0.0 in labels with no predicted samples. Use `zero_division` parameter to control this behavior.\n",
      "  _warn_prf(average, modifier, f\"{metric.capitalize()} is\", len(result))\n",
      "C:\\Users\\sabri\\anaconda3\\Lib\\site-packages\\sklearn\\metrics\\_classification.py:1531: UndefinedMetricWarning: Precision is ill-defined and being set to 0.0 in labels with no predicted samples. Use `zero_division` parameter to control this behavior.\n",
      "  _warn_prf(average, modifier, f\"{metric.capitalize()} is\", len(result))\n",
      "C:\\Users\\sabri\\anaconda3\\Lib\\site-packages\\sklearn\\metrics\\_classification.py:1531: UndefinedMetricWarning: Precision is ill-defined and being set to 0.0 in labels with no predicted samples. Use `zero_division` parameter to control this behavior.\n",
      "  _warn_prf(average, modifier, f\"{metric.capitalize()} is\", len(result))\n",
      "C:\\Users\\sabri\\anaconda3\\Lib\\site-packages\\sklearn\\metrics\\_classification.py:1531: UndefinedMetricWarning: Precision is ill-defined and being set to 0.0 in labels with no predicted samples. Use `zero_division` parameter to control this behavior.\n",
      "  _warn_prf(average, modifier, f\"{metric.capitalize()} is\", len(result))\n",
      "C:\\Users\\sabri\\anaconda3\\Lib\\site-packages\\sklearn\\metrics\\_classification.py:1531: UndefinedMetricWarning: Precision is ill-defined and being set to 0.0 in labels with no predicted samples. Use `zero_division` parameter to control this behavior.\n",
      "  _warn_prf(average, modifier, f\"{metric.capitalize()} is\", len(result))\n",
      "C:\\Users\\sabri\\anaconda3\\Lib\\site-packages\\sklearn\\metrics\\_classification.py:1531: UndefinedMetricWarning: Precision is ill-defined and being set to 0.0 in labels with no predicted samples. Use `zero_division` parameter to control this behavior.\n",
      "  _warn_prf(average, modifier, f\"{metric.capitalize()} is\", len(result))\n"
     ]
    },
    {
     "name": "stdout",
     "output_type": "stream",
     "text": [
      "[[ 0  2  0]\n",
      " [ 0 59  0]\n",
      " [ 0  1  2]]\n",
      "              precision    recall  f1-score   support\n",
      "\n",
      "        Alto       0.00      0.00      0.00         2\n",
      "        Bajo       0.95      1.00      0.98        59\n",
      "       Medio       1.00      0.67      0.80         3\n",
      "\n",
      "    accuracy                           0.95        64\n",
      "   macro avg       0.65      0.56      0.59        64\n",
      "weighted avg       0.92      0.95      0.94        64\n",
      "\n",
      "\n",
      "Entrenando modelo: SVM\n",
      "[[ 2  0  0]\n",
      " [ 4 55  0]\n",
      " [ 0  1  2]]\n",
      "              precision    recall  f1-score   support\n",
      "\n",
      "        Alto       0.33      1.00      0.50         2\n",
      "        Bajo       0.98      0.93      0.96        59\n",
      "       Medio       1.00      0.67      0.80         3\n",
      "\n",
      "    accuracy                           0.92        64\n",
      "   macro avg       0.77      0.87      0.75        64\n",
      "weighted avg       0.96      0.92      0.93        64\n",
      "\n",
      "\n",
      "Entrenando modelo: K-NN\n",
      "[[ 2  0  0]\n",
      " [ 7 50  2]\n",
      " [ 0  0  3]]\n",
      "              precision    recall  f1-score   support\n",
      "\n",
      "        Alto       0.22      1.00      0.36         2\n",
      "        Bajo       1.00      0.85      0.92        59\n",
      "       Medio       0.60      1.00      0.75         3\n",
      "\n",
      "    accuracy                           0.86        64\n",
      "   macro avg       0.61      0.95      0.68        64\n",
      "weighted avg       0.96      0.86      0.89        64\n",
      "\n"
     ]
    },
    {
     "name": "stderr",
     "output_type": "stream",
     "text": [
      "C:\\Users\\sabri\\anaconda3\\Lib\\site-packages\\sklearn\\metrics\\_classification.py:1531: UndefinedMetricWarning: Precision is ill-defined and being set to 0.0 in labels with no predicted samples. Use `zero_division` parameter to control this behavior.\n",
      "  _warn_prf(average, modifier, f\"{metric.capitalize()} is\", len(result))\n",
      "C:\\Users\\sabri\\anaconda3\\Lib\\site-packages\\sklearn\\metrics\\_classification.py:1531: UndefinedMetricWarning: Precision is ill-defined and being set to 0.0 in labels with no predicted samples. Use `zero_division` parameter to control this behavior.\n",
      "  _warn_prf(average, modifier, f\"{metric.capitalize()} is\", len(result))\n",
      "C:\\Users\\sabri\\anaconda3\\Lib\\site-packages\\sklearn\\metrics\\_classification.py:1531: UndefinedMetricWarning: Precision is ill-defined and being set to 0.0 in labels with no predicted samples. Use `zero_division` parameter to control this behavior.\n",
      "  _warn_prf(average, modifier, f\"{metric.capitalize()} is\", len(result))\n",
      "C:\\Users\\sabri\\anaconda3\\Lib\\site-packages\\sklearn\\metrics\\_classification.py:1531: UndefinedMetricWarning: Precision is ill-defined and being set to 0.0 in labels with no predicted samples. Use `zero_division` parameter to control this behavior.\n",
      "  _warn_prf(average, modifier, f\"{metric.capitalize()} is\", len(result))\n",
      "C:\\Users\\sabri\\anaconda3\\Lib\\site-packages\\sklearn\\metrics\\_classification.py:1531: UndefinedMetricWarning: Precision is ill-defined and being set to 0.0 in labels with no predicted samples. Use `zero_division` parameter to control this behavior.\n",
      "  _warn_prf(average, modifier, f\"{metric.capitalize()} is\", len(result))\n",
      "C:\\Users\\sabri\\anaconda3\\Lib\\site-packages\\sklearn\\metrics\\_classification.py:1531: UndefinedMetricWarning: Precision is ill-defined and being set to 0.0 in labels with no predicted samples. Use `zero_division` parameter to control this behavior.\n",
      "  _warn_prf(average, modifier, f\"{metric.capitalize()} is\", len(result))\n"
     ]
    }
   ],
   "source": [
    "# 8. Entrenamiento de Modelos\n",
    "modelos = {\n",
    "    'Decision Tree': DecisionTreeClassifier(random_state=42),\n",
    "    'Random Forest': RandomForestClassifier(random_state=42),\n",
    "    'SVM': SVC(random_state=42),\n",
    "    'K-NN': KNeighborsClassifier()\n",
    "}\n",
    "\n",
    "resultados = {}\n",
    "\n",
    "for nombre, modelo in modelos.items():\n",
    "    print(f\"\\nEntrenando modelo: {nombre}\")\n",
    "    \n",
    "    if nombre in ['SVM', 'K-NN']:\n",
    "        modelo.fit(X_train_bal_scaled, y_train_bal)\n",
    "        y_pred = modelo.predict(X_test_scaled)\n",
    "    else:\n",
    "        modelo.fit(X_train_bal, y_train_bal)\n",
    "        y_pred = modelo.predict(X_test)\n",
    "\n",
    "    print(confusion_matrix(y_test, y_pred))\n",
    "    print(classification_report(y_test, y_pred))\n",
    "\n",
    "    resultados[nombre] = classification_report(y_test, y_pred, output_dict=True)"
   ]
  },
  {
   "cell_type": "markdown",
   "id": "29e279de-ff47-4f27-86c2-4c680df98139",
   "metadata": {},
   "source": [
    "Para el desarrollo del modelo, dividí los datos en 80% para entrenamiento y 20% para prueba.\n",
    "Se separan los datos para entrenar el modelo con una parte y probarlo con otra, lo que permite evaluar su rendimiento real y evitar overfitting.\n",
    ". Se elige Random Forest por su buena capacidad de clasificación y manejo de datos no lineales. Aprende patrones entre los datos de entrada y la variable de riesgo.\n",
    ". Se evalúa el desempeño del modelo con métricas como precisión, recall y F1-score. La matriz de confusión muestra cómo se clasificaron los distintos niveles de riesgo.\n"
   ]
  },
  {
   "cell_type": "code",
   "execution_count": 97,
   "id": "3961feac-79a1-4f42-8008-473443aa60a6",
   "metadata": {},
   "outputs": [
    {
     "name": "stdout",
     "output_type": "stream",
     "text": [
      "Resumen Comparativo de Modelos:\n"
     ]
    },
    {
     "data": {
      "text/html": [
       "<div>\n",
       "<style scoped>\n",
       "    .dataframe tbody tr th:only-of-type {\n",
       "        vertical-align: middle;\n",
       "    }\n",
       "\n",
       "    .dataframe tbody tr th {\n",
       "        vertical-align: top;\n",
       "    }\n",
       "\n",
       "    .dataframe thead th {\n",
       "        text-align: right;\n",
       "    }\n",
       "</style>\n",
       "<table border=\"1\" class=\"dataframe\">\n",
       "  <thead>\n",
       "    <tr style=\"text-align: right;\">\n",
       "      <th></th>\n",
       "      <th>Accuracy</th>\n",
       "      <th>Precision (Macro)</th>\n",
       "      <th>Recall (Macro)</th>\n",
       "      <th>F1-Score (Macro)</th>\n",
       "    </tr>\n",
       "  </thead>\n",
       "  <tbody>\n",
       "    <tr>\n",
       "      <th>Decision Tree</th>\n",
       "      <td>0.953125</td>\n",
       "      <td>0.650538</td>\n",
       "      <td>0.555556</td>\n",
       "      <td>0.591736</td>\n",
       "    </tr>\n",
       "    <tr>\n",
       "      <th>Random Forest</th>\n",
       "      <td>0.953125</td>\n",
       "      <td>0.650538</td>\n",
       "      <td>0.555556</td>\n",
       "      <td>0.591736</td>\n",
       "    </tr>\n",
       "    <tr>\n",
       "      <th>SVM</th>\n",
       "      <td>0.921875</td>\n",
       "      <td>0.771825</td>\n",
       "      <td>0.866290</td>\n",
       "      <td>0.752174</td>\n",
       "    </tr>\n",
       "    <tr>\n",
       "      <th>K-NN</th>\n",
       "      <td>0.859375</td>\n",
       "      <td>0.607407</td>\n",
       "      <td>0.949153</td>\n",
       "      <td>0.677023</td>\n",
       "    </tr>\n",
       "  </tbody>\n",
       "</table>\n",
       "</div>"
      ],
      "text/plain": [
       "               Accuracy  Precision (Macro)  Recall (Macro)  F1-Score (Macro)\n",
       "Decision Tree  0.953125           0.650538        0.555556          0.591736\n",
       "Random Forest  0.953125           0.650538        0.555556          0.591736\n",
       "SVM            0.921875           0.771825        0.866290          0.752174\n",
       "K-NN           0.859375           0.607407        0.949153          0.677023"
      ]
     },
     "metadata": {},
     "output_type": "display_data"
    }
   ],
   "source": [
    "# 9. Comparación de Modelos\n",
    "summary = pd.DataFrame({\n",
    "    modelo: {\n",
    "        'Accuracy': resultados[modelo]['accuracy'],\n",
    "        'Precision (Macro)': resultados[modelo]['macro avg']['precision'],\n",
    "        'Recall (Macro)': resultados[modelo]['macro avg']['recall'],\n",
    "        'F1-Score (Macro)': resultados[modelo]['macro avg']['f1-score']\n",
    "    }\n",
    "    for modelo in resultados\n",
    "}).T\n",
    "\n",
    "print(\"Resumen Comparativo de Modelos:\")\n",
    "display(summary)"
   ]
  },
  {
   "cell_type": "code",
   "execution_count": 99,
   "id": "a1922154-5856-4092-90b3-7148c1ef1c76",
   "metadata": {},
   "outputs": [
    {
     "data": {
      "image/png": "[encoded data removed]",
      "text/plain": [
       "<Figure size 1200x600 with 1 Axes>"
      ]
     },
     "metadata": {},
     "output_type": "display_data"
    }
   ],
   "source": [
    "import matplotlib.pyplot as plt\n",
    "\n",
    "# Graficar resultados\n",
    "summary.plot(kind='bar', figsize=(12, 6))\n",
    "plt.title('Comparación de Modelos - Accuracy, Precision, Recall, F1-Score')\n",
    "plt.ylabel('Score')\n",
    "plt.xlabel('Modelos')\n",
    "plt.ylim(0, 1)\n",
    "plt.xticks(rotation=45)\n",
    "plt.grid(axis='y')\n",
    "plt.legend(loc='lower right')\n",
    "plt.show()"
   ]
  },
  {
   "cell_type": "code",
   "execution_count": 101,
   "id": "c22d680b-8b9f-41e8-8920-38544aef5adf",
   "metadata": {},
   "outputs": [
    {
     "name": "stdout",
     "output_type": "stream",
     "text": [
      "Resumen Comparativo de Modelos (Ordenado por F1-Score):\n"
     ]
    },
    {
     "data": {
      "text/html": [
       "<div>\n",
       "<style scoped>\n",
       "    .dataframe tbody tr th:only-of-type {\n",
       "        vertical-align: middle;\n",
       "    }\n",
       "\n",
       "    .dataframe tbody tr th {\n",
       "        vertical-align: top;\n",
       "    }\n",
       "\n",
       "    .dataframe thead th {\n",
       "        text-align: right;\n",
       "    }\n",
       "</style>\n",
       "<table border=\"1\" class=\"dataframe\">\n",
       "  <thead>\n",
       "    <tr style=\"text-align: right;\">\n",
       "      <th></th>\n",
       "      <th>Accuracy</th>\n",
       "      <th>Precision (Macro)</th>\n",
       "      <th>Recall (Macro)</th>\n",
       "      <th>F1-Score (Macro)</th>\n",
       "    </tr>\n",
       "  </thead>\n",
       "  <tbody>\n",
       "    <tr>\n",
       "      <th>SVM</th>\n",
       "      <td>0.921875</td>\n",
       "      <td>0.771825</td>\n",
       "      <td>0.866290</td>\n",
       "      <td>0.752174</td>\n",
       "    </tr>\n",
       "    <tr>\n",
       "      <th>K-NN</th>\n",
       "      <td>0.859375</td>\n",
       "      <td>0.607407</td>\n",
       "      <td>0.949153</td>\n",
       "      <td>0.677023</td>\n",
       "    </tr>\n",
       "    <tr>\n",
       "      <th>Decision Tree</th>\n",
       "      <td>0.953125</td>\n",
       "      <td>0.650538</td>\n",
       "      <td>0.555556</td>\n",
       "      <td>0.591736</td>\n",
       "    </tr>\n",
       "    <tr>\n",
       "      <th>Random Forest</th>\n",
       "      <td>0.953125</td>\n",
       "      <td>0.650538</td>\n",
       "      <td>0.555556</td>\n",
       "      <td>0.591736</td>\n",
       "    </tr>\n",
       "  </tbody>\n",
       "</table>\n",
       "</div>"
      ],
      "text/plain": [
       "               Accuracy  Precision (Macro)  Recall (Macro)  F1-Score (Macro)\n",
       "SVM            0.921875           0.771825        0.866290          0.752174\n",
       "K-NN           0.859375           0.607407        0.949153          0.677023\n",
       "Decision Tree  0.953125           0.650538        0.555556          0.591736\n",
       "Random Forest  0.953125           0.650538        0.555556          0.591736"
      ]
     },
     "metadata": {},
     "output_type": "display_data"
    },
    {
     "name": "stdout",
     "output_type": "stream",
     "text": [
      "🏆 El mejor modelo según F1-Score es: SVM\n"
     ]
    }
   ],
   "source": [
    "# 1. Ordenar por F1-Score Macro\n",
    "summary_sorted = summary.sort_values(by='F1-Score (Macro)', ascending=False)\n",
    "\n",
    "# 2. Mostrar tabla ordenada\n",
    "print(\"Resumen Comparativo de Modelos (Ordenado por F1-Score):\")\n",
    "display(summary_sorted)\n",
    "\n",
    "# 3. Mostrar Mejor Modelo\n",
    "mejor_modelo = summary_sorted.index[0]\n",
    "print(f\"🏆 El mejor modelo según F1-Score es: {mejor_modelo}\")"
   ]
  },
  {
   "cell_type": "code",
   "execution_count": 103,
   "id": "e4a0f77b-9c97-4f93-be66-8d37f0656b1c",
   "metadata": {},
   "outputs": [
    {
     "data": {
      "image/png": "[encoded data removed]",
      "text/plain": [
       "<Figure size 800x600 with 2 Axes>"
      ]
     },
     "metadata": {},
     "output_type": "display_data"
    }
   ],
   "source": [
    "# Reentrenar mejor modelo si hace falta (opcional)\n",
    "modelo_seleccionado = modelos[mejor_modelo]\n",
    "\n",
    "if mejor_modelo in ['SVM', 'K-NN']:\n",
    "    modelo_seleccionado.fit(X_train_bal_scaled, y_train_bal)\n",
    "    y_pred_mejor = modelo_seleccionado.predict(X_test_scaled)\n",
    "else:\n",
    "    modelo_seleccionado.fit(X_train_bal, y_train_bal)\n",
    "    y_pred_mejor = modelo_seleccionado.predict(X_test)\n",
    "\n",
    "# 4. Generar matriz de confusión\n",
    "matriz_confusion = confusion_matrix(y_test, y_pred_mejor)\n",
    "\n",
    "# 5. Graficar\n",
    "plt.figure(figsize=(8, 6))\n",
    "sns.heatmap(matriz_confusion, annot=True, fmt='d', cmap='Blues',\n",
    "            xticklabels=np.unique(y_test), yticklabels=np.unique(y_test))\n",
    "plt.title(f'Matriz de Confusión - {mejor_modelo}')\n",
    "plt.xlabel('Predicción')\n",
    "plt.ylabel('Real')\n",
    "plt.show()"
   ]
  },
  {
   "cell_type": "markdown",
   "id": "ccf88dd4-5c50-4369-ac0f-b15bf1feb467",
   "metadata": {},
   "source": [
    "En conclusión, el modelo desarrollado cumple con los objetivos del proyecto ya que anticipa escenarios de riesgo operativo, permite mejorar la planificación del mantenimiento y aumenta la seguridad del parque eólico. Ademas, este proyecto demuestra el valor de aplicar Machine Learning a la industria energética.\n",
    "\n",
    "Como recomendaciones futuras, sugiero:\n",
    "- Incorporar más años de datos\n",
    "- Ajustar los umbrales de riesgo con expertos del sector\n",
    "- explorar modelos más complejos como redes neuronales o análisis en tiempo real\n",
    "\n"
   ]
  }
 ],
 "metadata": {
  "kernelspec": {
   "display_name": "Python 3 (ipykernel)",
   "language": "python",
   "name": "python3"
  },
  "language_info": {
   "codemirror_mode": {
    "name": "ipython",
    "version": 3
   },
   "file_extension": ".py",
   "mimetype": "text/x-python",
   "name": "python",
   "nbconvert_exporter": "python",
   "pygments_lexer": "ipython3",
   "version": "3.12.7"
  }
 },
 "nbformat": 4,
 "nbformat_minor": 5
}
